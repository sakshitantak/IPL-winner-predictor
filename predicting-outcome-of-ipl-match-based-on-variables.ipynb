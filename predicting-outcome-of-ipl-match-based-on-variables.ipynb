{
 "cells": [
  {
   "cell_type": "markdown",
   "metadata": {},
   "source": [
    "# Import libraries"
   ]
  },
  {
   "cell_type": "code",
   "execution_count": 1,
   "metadata": {
    "_cell_guid": "994e6f34-f52d-4301-be75-24bcdb62773d",
    "_uuid": "e57ea06f08c82eb7e3722da4a3fa8340aea76fcd"
   },
   "outputs": [
    {
     "name": "stdout",
     "output_type": "stream",
     "text": [
      "deliveries.csv\n",
      "matches.csv\n",
      "\n"
     ]
    }
   ],
   "source": [
    "import numpy as np\n",
    "import pandas as pd\n",
    "import matplotlib.pyplot as plt\n",
    "from sklearn.preprocessing import LabelEncoder\n",
    "from sklearn.ensemble import RandomForestClassifier as rfc\n",
    "from sklearn.ensemble import GradientBoostingClassifier\n",
    "from sklearn import tree\n",
    "from sklearn.model_selection import train_test_split\n",
    "from sklearn import metrics\n",
    "from sklearn.metrics import accuracy_score\n",
    "from sklearn.model_selection import GridSearchCV\n",
    "import xgboost as xgb\n",
    "\n",
    "from subprocess import check_output\n",
    "print(check_output([\"ls\", \"../input\"]).decode(\"utf8\"))\n",
    "\n",
    "# Any results you write to the current directory are saved as output."
   ]
  },
  {
   "cell_type": "markdown",
   "metadata": {},
   "source": [
    "# Import Dataset"
   ]
  },
  {
   "cell_type": "code",
   "execution_count": 2,
   "metadata": {
    "_cell_guid": "bcb2c4e3-9b50-401a-820d-86516ab627e0",
    "_uuid": "443ae25c196175a0294a9aa4fd33a694beb83b9d"
   },
   "outputs": [],
   "source": [
    "#input dataset as a pandas dataframe\n",
    "matches = pd.read_csv('../input/matches.csv')"
   ]
  },
  {
   "cell_type": "code",
   "execution_count": 3,
   "metadata": {},
   "outputs": [
    {
     "data": {
      "text/plain": [
       "pandas.core.frame.DataFrame"
      ]
     },
     "execution_count": 3,
     "metadata": {},
     "output_type": "execute_result"
    }
   ],
   "source": [
    "#display the type of object matches\n",
    "type(matches)"
   ]
  },
  {
   "cell_type": "code",
   "execution_count": 4,
   "metadata": {},
   "outputs": [
    {
     "data": {
      "text/plain": [
       "<bound method NDFrame.describe of         id  season           city        date                        team1  \\\n",
       "0        1    2017      Hyderabad  2017-04-05          Sunrisers Hyderabad   \n",
       "1        2    2017           Pune  2017-04-06               Mumbai Indians   \n",
       "2        3    2017         Rajkot  2017-04-07                Gujarat Lions   \n",
       "3        4    2017         Indore  2017-04-08       Rising Pune Supergiant   \n",
       "4        5    2017      Bangalore  2017-04-08  Royal Challengers Bangalore   \n",
       "..     ...     ...            ...         ...                          ...   \n",
       "751  11347    2019         Mumbai    05/05/19        Kolkata Knight Riders   \n",
       "752  11412    2019        Chennai    07/05/19          Chennai Super Kings   \n",
       "753  11413    2019  Visakhapatnam    08/05/19          Sunrisers Hyderabad   \n",
       "754  11414    2019  Visakhapatnam    10/05/19               Delhi Capitals   \n",
       "755  11415    2019      Hyderabad    12/05/19               Mumbai Indians   \n",
       "\n",
       "                           team2                  toss_winner toss_decision  \\\n",
       "0    Royal Challengers Bangalore  Royal Challengers Bangalore         field   \n",
       "1         Rising Pune Supergiant       Rising Pune Supergiant         field   \n",
       "2          Kolkata Knight Riders        Kolkata Knight Riders         field   \n",
       "3                Kings XI Punjab              Kings XI Punjab         field   \n",
       "4               Delhi Daredevils  Royal Challengers Bangalore           bat   \n",
       "..                           ...                          ...           ...   \n",
       "751               Mumbai Indians               Mumbai Indians         field   \n",
       "752               Mumbai Indians          Chennai Super Kings           bat   \n",
       "753               Delhi Capitals               Delhi Capitals         field   \n",
       "754          Chennai Super Kings          Chennai Super Kings         field   \n",
       "755          Chennai Super Kings               Mumbai Indians           bat   \n",
       "\n",
       "     result  dl_applied                       winner  win_by_runs  \\\n",
       "0    normal           0          Sunrisers Hyderabad           35   \n",
       "1    normal           0       Rising Pune Supergiant            0   \n",
       "2    normal           0        Kolkata Knight Riders            0   \n",
       "3    normal           0              Kings XI Punjab            0   \n",
       "4    normal           0  Royal Challengers Bangalore           15   \n",
       "..      ...         ...                          ...          ...   \n",
       "751  normal           0               Mumbai Indians            0   \n",
       "752  normal           0               Mumbai Indians            0   \n",
       "753  normal           0               Delhi Capitals            0   \n",
       "754  normal           0          Chennai Super Kings            0   \n",
       "755  normal           0               Mumbai Indians            1   \n",
       "\n",
       "     win_by_wickets player_of_match  \\\n",
       "0                 0    Yuvraj Singh   \n",
       "1                 7       SPD Smith   \n",
       "2                10         CA Lynn   \n",
       "3                 6      GJ Maxwell   \n",
       "4                 0       KM Jadhav   \n",
       "..              ...             ...   \n",
       "751               9       HH Pandya   \n",
       "752               6        AS Yadav   \n",
       "753               2         RR Pant   \n",
       "754               6    F du Plessis   \n",
       "755               0       JJ Bumrah   \n",
       "\n",
       "                                         venue         umpire1  \\\n",
       "0    Rajiv Gandhi International Stadium, Uppal     AY Dandekar   \n",
       "1      Maharashtra Cricket Association Stadium  A Nand Kishore   \n",
       "2       Saurashtra Cricket Association Stadium     Nitin Menon   \n",
       "3                       Holkar Cricket Stadium    AK Chaudhary   \n",
       "4                        M Chinnaswamy Stadium             NaN   \n",
       "..                                         ...             ...   \n",
       "751                           Wankhede Stadium   Nanda Kishore   \n",
       "752                  M. A. Chidambaram Stadium     Nigel Llong   \n",
       "753                           ACA-VDCA Stadium             NaN   \n",
       "754                           ACA-VDCA Stadium   Sundaram Ravi   \n",
       "755         Rajiv Gandhi Intl. Cricket Stadium     Nitin Menon   \n",
       "\n",
       "            umpire2                  umpire3  \n",
       "0          NJ Llong                      NaN  \n",
       "1            S Ravi                      NaN  \n",
       "2         CK Nandan                      NaN  \n",
       "3     C Shamshuddin                      NaN  \n",
       "4               NaN                      NaN  \n",
       "..              ...                      ...  \n",
       "751        O Nandan                   S Ravi  \n",
       "752     Nitin Menon                Ian Gould  \n",
       "753             NaN                      NaN  \n",
       "754  Bruce Oxenford  Chettithody Shamshuddin  \n",
       "755       Ian Gould              Nigel Llong  \n",
       "\n",
       "[756 rows x 18 columns]>"
      ]
     },
     "execution_count": 4,
     "metadata": {},
     "output_type": "execute_result"
    }
   ],
   "source": [
    "#describe dataset matches\n",
    "matches.describe"
   ]
  },
  {
   "cell_type": "code",
   "execution_count": 5,
   "metadata": {},
   "outputs": [
    {
     "data": {
      "text/html": [
       "<div>\n",
       "<style scoped>\n",
       "    .dataframe tbody tr th:only-of-type {\n",
       "        vertical-align: middle;\n",
       "    }\n",
       "\n",
       "    .dataframe tbody tr th {\n",
       "        vertical-align: top;\n",
       "    }\n",
       "\n",
       "    .dataframe thead th {\n",
       "        text-align: right;\n",
       "    }\n",
       "</style>\n",
       "<table border=\"1\" class=\"dataframe\">\n",
       "  <thead>\n",
       "    <tr style=\"text-align: right;\">\n",
       "      <th></th>\n",
       "      <th>id</th>\n",
       "      <th>season</th>\n",
       "      <th>city</th>\n",
       "      <th>date</th>\n",
       "      <th>team1</th>\n",
       "      <th>team2</th>\n",
       "      <th>toss_winner</th>\n",
       "      <th>toss_decision</th>\n",
       "      <th>result</th>\n",
       "      <th>dl_applied</th>\n",
       "      <th>winner</th>\n",
       "      <th>win_by_runs</th>\n",
       "      <th>win_by_wickets</th>\n",
       "      <th>player_of_match</th>\n",
       "      <th>venue</th>\n",
       "      <th>umpire1</th>\n",
       "      <th>umpire2</th>\n",
       "      <th>umpire3</th>\n",
       "    </tr>\n",
       "  </thead>\n",
       "  <tbody>\n",
       "    <tr>\n",
       "      <th>0</th>\n",
       "      <td>1</td>\n",
       "      <td>2017</td>\n",
       "      <td>Hyderabad</td>\n",
       "      <td>2017-04-05</td>\n",
       "      <td>Sunrisers Hyderabad</td>\n",
       "      <td>Royal Challengers Bangalore</td>\n",
       "      <td>Royal Challengers Bangalore</td>\n",
       "      <td>field</td>\n",
       "      <td>normal</td>\n",
       "      <td>0</td>\n",
       "      <td>Sunrisers Hyderabad</td>\n",
       "      <td>35</td>\n",
       "      <td>0</td>\n",
       "      <td>Yuvraj Singh</td>\n",
       "      <td>Rajiv Gandhi International Stadium, Uppal</td>\n",
       "      <td>AY Dandekar</td>\n",
       "      <td>NJ Llong</td>\n",
       "      <td>NaN</td>\n",
       "    </tr>\n",
       "    <tr>\n",
       "      <th>1</th>\n",
       "      <td>2</td>\n",
       "      <td>2017</td>\n",
       "      <td>Pune</td>\n",
       "      <td>2017-04-06</td>\n",
       "      <td>Mumbai Indians</td>\n",
       "      <td>Rising Pune Supergiant</td>\n",
       "      <td>Rising Pune Supergiant</td>\n",
       "      <td>field</td>\n",
       "      <td>normal</td>\n",
       "      <td>0</td>\n",
       "      <td>Rising Pune Supergiant</td>\n",
       "      <td>0</td>\n",
       "      <td>7</td>\n",
       "      <td>SPD Smith</td>\n",
       "      <td>Maharashtra Cricket Association Stadium</td>\n",
       "      <td>A Nand Kishore</td>\n",
       "      <td>S Ravi</td>\n",
       "      <td>NaN</td>\n",
       "    </tr>\n",
       "    <tr>\n",
       "      <th>2</th>\n",
       "      <td>3</td>\n",
       "      <td>2017</td>\n",
       "      <td>Rajkot</td>\n",
       "      <td>2017-04-07</td>\n",
       "      <td>Gujarat Lions</td>\n",
       "      <td>Kolkata Knight Riders</td>\n",
       "      <td>Kolkata Knight Riders</td>\n",
       "      <td>field</td>\n",
       "      <td>normal</td>\n",
       "      <td>0</td>\n",
       "      <td>Kolkata Knight Riders</td>\n",
       "      <td>0</td>\n",
       "      <td>10</td>\n",
       "      <td>CA Lynn</td>\n",
       "      <td>Saurashtra Cricket Association Stadium</td>\n",
       "      <td>Nitin Menon</td>\n",
       "      <td>CK Nandan</td>\n",
       "      <td>NaN</td>\n",
       "    </tr>\n",
       "    <tr>\n",
       "      <th>3</th>\n",
       "      <td>4</td>\n",
       "      <td>2017</td>\n",
       "      <td>Indore</td>\n",
       "      <td>2017-04-08</td>\n",
       "      <td>Rising Pune Supergiant</td>\n",
       "      <td>Kings XI Punjab</td>\n",
       "      <td>Kings XI Punjab</td>\n",
       "      <td>field</td>\n",
       "      <td>normal</td>\n",
       "      <td>0</td>\n",
       "      <td>Kings XI Punjab</td>\n",
       "      <td>0</td>\n",
       "      <td>6</td>\n",
       "      <td>GJ Maxwell</td>\n",
       "      <td>Holkar Cricket Stadium</td>\n",
       "      <td>AK Chaudhary</td>\n",
       "      <td>C Shamshuddin</td>\n",
       "      <td>NaN</td>\n",
       "    </tr>\n",
       "    <tr>\n",
       "      <th>4</th>\n",
       "      <td>5</td>\n",
       "      <td>2017</td>\n",
       "      <td>Bangalore</td>\n",
       "      <td>2017-04-08</td>\n",
       "      <td>Royal Challengers Bangalore</td>\n",
       "      <td>Delhi Daredevils</td>\n",
       "      <td>Royal Challengers Bangalore</td>\n",
       "      <td>bat</td>\n",
       "      <td>normal</td>\n",
       "      <td>0</td>\n",
       "      <td>Royal Challengers Bangalore</td>\n",
       "      <td>15</td>\n",
       "      <td>0</td>\n",
       "      <td>KM Jadhav</td>\n",
       "      <td>M Chinnaswamy Stadium</td>\n",
       "      <td>NaN</td>\n",
       "      <td>NaN</td>\n",
       "      <td>NaN</td>\n",
       "    </tr>\n",
       "    <tr>\n",
       "      <th>5</th>\n",
       "      <td>6</td>\n",
       "      <td>2017</td>\n",
       "      <td>Hyderabad</td>\n",
       "      <td>2017-04-09</td>\n",
       "      <td>Gujarat Lions</td>\n",
       "      <td>Sunrisers Hyderabad</td>\n",
       "      <td>Sunrisers Hyderabad</td>\n",
       "      <td>field</td>\n",
       "      <td>normal</td>\n",
       "      <td>0</td>\n",
       "      <td>Sunrisers Hyderabad</td>\n",
       "      <td>0</td>\n",
       "      <td>9</td>\n",
       "      <td>Rashid Khan</td>\n",
       "      <td>Rajiv Gandhi International Stadium, Uppal</td>\n",
       "      <td>A Deshmukh</td>\n",
       "      <td>NJ Llong</td>\n",
       "      <td>NaN</td>\n",
       "    </tr>\n",
       "    <tr>\n",
       "      <th>6</th>\n",
       "      <td>7</td>\n",
       "      <td>2017</td>\n",
       "      <td>Mumbai</td>\n",
       "      <td>2017-04-09</td>\n",
       "      <td>Kolkata Knight Riders</td>\n",
       "      <td>Mumbai Indians</td>\n",
       "      <td>Mumbai Indians</td>\n",
       "      <td>field</td>\n",
       "      <td>normal</td>\n",
       "      <td>0</td>\n",
       "      <td>Mumbai Indians</td>\n",
       "      <td>0</td>\n",
       "      <td>4</td>\n",
       "      <td>N Rana</td>\n",
       "      <td>Wankhede Stadium</td>\n",
       "      <td>Nitin Menon</td>\n",
       "      <td>CK Nandan</td>\n",
       "      <td>NaN</td>\n",
       "    </tr>\n",
       "    <tr>\n",
       "      <th>7</th>\n",
       "      <td>8</td>\n",
       "      <td>2017</td>\n",
       "      <td>Indore</td>\n",
       "      <td>2017-04-10</td>\n",
       "      <td>Royal Challengers Bangalore</td>\n",
       "      <td>Kings XI Punjab</td>\n",
       "      <td>Royal Challengers Bangalore</td>\n",
       "      <td>bat</td>\n",
       "      <td>normal</td>\n",
       "      <td>0</td>\n",
       "      <td>Kings XI Punjab</td>\n",
       "      <td>0</td>\n",
       "      <td>8</td>\n",
       "      <td>AR Patel</td>\n",
       "      <td>Holkar Cricket Stadium</td>\n",
       "      <td>AK Chaudhary</td>\n",
       "      <td>C Shamshuddin</td>\n",
       "      <td>NaN</td>\n",
       "    </tr>\n",
       "    <tr>\n",
       "      <th>8</th>\n",
       "      <td>9</td>\n",
       "      <td>2017</td>\n",
       "      <td>Pune</td>\n",
       "      <td>2017-04-11</td>\n",
       "      <td>Delhi Daredevils</td>\n",
       "      <td>Rising Pune Supergiant</td>\n",
       "      <td>Rising Pune Supergiant</td>\n",
       "      <td>field</td>\n",
       "      <td>normal</td>\n",
       "      <td>0</td>\n",
       "      <td>Delhi Daredevils</td>\n",
       "      <td>97</td>\n",
       "      <td>0</td>\n",
       "      <td>SV Samson</td>\n",
       "      <td>Maharashtra Cricket Association Stadium</td>\n",
       "      <td>AY Dandekar</td>\n",
       "      <td>S Ravi</td>\n",
       "      <td>NaN</td>\n",
       "    </tr>\n",
       "    <tr>\n",
       "      <th>9</th>\n",
       "      <td>10</td>\n",
       "      <td>2017</td>\n",
       "      <td>Mumbai</td>\n",
       "      <td>2017-04-12</td>\n",
       "      <td>Sunrisers Hyderabad</td>\n",
       "      <td>Mumbai Indians</td>\n",
       "      <td>Mumbai Indians</td>\n",
       "      <td>field</td>\n",
       "      <td>normal</td>\n",
       "      <td>0</td>\n",
       "      <td>Mumbai Indians</td>\n",
       "      <td>0</td>\n",
       "      <td>4</td>\n",
       "      <td>JJ Bumrah</td>\n",
       "      <td>Wankhede Stadium</td>\n",
       "      <td>Nitin Menon</td>\n",
       "      <td>CK Nandan</td>\n",
       "      <td>NaN</td>\n",
       "    </tr>\n",
       "  </tbody>\n",
       "</table>\n",
       "</div>"
      ],
      "text/plain": [
       "   id  season       city        date                        team1  \\\n",
       "0   1    2017  Hyderabad  2017-04-05          Sunrisers Hyderabad   \n",
       "1   2    2017       Pune  2017-04-06               Mumbai Indians   \n",
       "2   3    2017     Rajkot  2017-04-07                Gujarat Lions   \n",
       "3   4    2017     Indore  2017-04-08       Rising Pune Supergiant   \n",
       "4   5    2017  Bangalore  2017-04-08  Royal Challengers Bangalore   \n",
       "5   6    2017  Hyderabad  2017-04-09                Gujarat Lions   \n",
       "6   7    2017     Mumbai  2017-04-09        Kolkata Knight Riders   \n",
       "7   8    2017     Indore  2017-04-10  Royal Challengers Bangalore   \n",
       "8   9    2017       Pune  2017-04-11             Delhi Daredevils   \n",
       "9  10    2017     Mumbai  2017-04-12          Sunrisers Hyderabad   \n",
       "\n",
       "                         team2                  toss_winner toss_decision  \\\n",
       "0  Royal Challengers Bangalore  Royal Challengers Bangalore         field   \n",
       "1       Rising Pune Supergiant       Rising Pune Supergiant         field   \n",
       "2        Kolkata Knight Riders        Kolkata Knight Riders         field   \n",
       "3              Kings XI Punjab              Kings XI Punjab         field   \n",
       "4             Delhi Daredevils  Royal Challengers Bangalore           bat   \n",
       "5          Sunrisers Hyderabad          Sunrisers Hyderabad         field   \n",
       "6               Mumbai Indians               Mumbai Indians         field   \n",
       "7              Kings XI Punjab  Royal Challengers Bangalore           bat   \n",
       "8       Rising Pune Supergiant       Rising Pune Supergiant         field   \n",
       "9               Mumbai Indians               Mumbai Indians         field   \n",
       "\n",
       "   result  dl_applied                       winner  win_by_runs  \\\n",
       "0  normal           0          Sunrisers Hyderabad           35   \n",
       "1  normal           0       Rising Pune Supergiant            0   \n",
       "2  normal           0        Kolkata Knight Riders            0   \n",
       "3  normal           0              Kings XI Punjab            0   \n",
       "4  normal           0  Royal Challengers Bangalore           15   \n",
       "5  normal           0          Sunrisers Hyderabad            0   \n",
       "6  normal           0               Mumbai Indians            0   \n",
       "7  normal           0              Kings XI Punjab            0   \n",
       "8  normal           0             Delhi Daredevils           97   \n",
       "9  normal           0               Mumbai Indians            0   \n",
       "\n",
       "   win_by_wickets player_of_match                                      venue  \\\n",
       "0               0    Yuvraj Singh  Rajiv Gandhi International Stadium, Uppal   \n",
       "1               7       SPD Smith    Maharashtra Cricket Association Stadium   \n",
       "2              10         CA Lynn     Saurashtra Cricket Association Stadium   \n",
       "3               6      GJ Maxwell                     Holkar Cricket Stadium   \n",
       "4               0       KM Jadhav                      M Chinnaswamy Stadium   \n",
       "5               9     Rashid Khan  Rajiv Gandhi International Stadium, Uppal   \n",
       "6               4          N Rana                           Wankhede Stadium   \n",
       "7               8        AR Patel                     Holkar Cricket Stadium   \n",
       "8               0       SV Samson    Maharashtra Cricket Association Stadium   \n",
       "9               4       JJ Bumrah                           Wankhede Stadium   \n",
       "\n",
       "          umpire1        umpire2 umpire3  \n",
       "0     AY Dandekar       NJ Llong     NaN  \n",
       "1  A Nand Kishore         S Ravi     NaN  \n",
       "2     Nitin Menon      CK Nandan     NaN  \n",
       "3    AK Chaudhary  C Shamshuddin     NaN  \n",
       "4             NaN            NaN     NaN  \n",
       "5      A Deshmukh       NJ Llong     NaN  \n",
       "6     Nitin Menon      CK Nandan     NaN  \n",
       "7    AK Chaudhary  C Shamshuddin     NaN  \n",
       "8     AY Dandekar         S Ravi     NaN  \n",
       "9     Nitin Menon      CK Nandan     NaN  "
      ]
     },
     "execution_count": 5,
     "metadata": {},
     "output_type": "execute_result"
    }
   ],
   "source": [
    "matches.head(10)"
   ]
  },
  {
   "cell_type": "code",
   "execution_count": 6,
   "metadata": {},
   "outputs": [
    {
     "data": {
      "text/plain": [
       "(756, 18)"
      ]
     },
     "execution_count": 6,
     "metadata": {},
     "output_type": "execute_result"
    }
   ],
   "source": [
    "#display shape of matches\n",
    "matches.shape"
   ]
  },
  {
   "cell_type": "code",
   "execution_count": 7,
   "metadata": {},
   "outputs": [
    {
     "data": {
      "text/plain": [
       "Index(['id', 'season', 'city', 'date', 'team1', 'team2', 'toss_winner',\n",
       "       'toss_decision', 'result', 'dl_applied', 'winner', 'win_by_runs',\n",
       "       'win_by_wickets', 'player_of_match', 'venue', 'umpire1', 'umpire2',\n",
       "       'umpire3'],\n",
       "      dtype='object')"
      ]
     },
     "execution_count": 7,
     "metadata": {},
     "output_type": "execute_result"
    }
   ],
   "source": [
    "#display the columns of matches\n",
    "matches.columns"
   ]
  },
  {
   "cell_type": "code",
   "execution_count": 8,
   "metadata": {},
   "outputs": [
    {
     "data": {
      "text/plain": [
       "RangeIndex(start=0, stop=756, step=1)"
      ]
     },
     "execution_count": 8,
     "metadata": {},
     "output_type": "execute_result"
    }
   ],
   "source": [
    "#display index of matches\n",
    "matches.index"
   ]
  },
  {
   "cell_type": "markdown",
   "metadata": {},
   "source": [
    "> Find missing values in the target variable \"winner\""
   ]
  },
  {
   "cell_type": "markdown",
   "metadata": {},
   "source": [
    "# Preprocessing of Data"
   ]
  },
  {
   "cell_type": "code",
   "execution_count": 9,
   "metadata": {
    "_cell_guid": "4ce2fb0f-a10a-4c82-a4b8-fddcdbcaf25f",
    "_uuid": "7fb66312d6307f21e2e8e27294e0b3b25679d4dd"
   },
   "outputs": [
    {
     "data": {
      "text/html": [
       "<div>\n",
       "<style scoped>\n",
       "    .dataframe tbody tr th:only-of-type {\n",
       "        vertical-align: middle;\n",
       "    }\n",
       "\n",
       "    .dataframe tbody tr th {\n",
       "        vertical-align: top;\n",
       "    }\n",
       "\n",
       "    .dataframe thead th {\n",
       "        text-align: right;\n",
       "    }\n",
       "</style>\n",
       "<table border=\"1\" class=\"dataframe\">\n",
       "  <thead>\n",
       "    <tr style=\"text-align: right;\">\n",
       "      <th></th>\n",
       "      <th>id</th>\n",
       "      <th>season</th>\n",
       "      <th>city</th>\n",
       "      <th>date</th>\n",
       "      <th>team1</th>\n",
       "      <th>team2</th>\n",
       "      <th>toss_winner</th>\n",
       "      <th>toss_decision</th>\n",
       "      <th>result</th>\n",
       "      <th>dl_applied</th>\n",
       "      <th>winner</th>\n",
       "      <th>win_by_runs</th>\n",
       "      <th>win_by_wickets</th>\n",
       "      <th>player_of_match</th>\n",
       "      <th>venue</th>\n",
       "      <th>umpire1</th>\n",
       "      <th>umpire2</th>\n",
       "      <th>umpire3</th>\n",
       "    </tr>\n",
       "  </thead>\n",
       "  <tbody>\n",
       "    <tr>\n",
       "      <th>300</th>\n",
       "      <td>301</td>\n",
       "      <td>2011</td>\n",
       "      <td>Delhi</td>\n",
       "      <td>2011-05-21</td>\n",
       "      <td>Delhi Daredevils</td>\n",
       "      <td>Pune Warriors</td>\n",
       "      <td>Delhi Daredevils</td>\n",
       "      <td>bat</td>\n",
       "      <td>no result</td>\n",
       "      <td>0</td>\n",
       "      <td>NaN</td>\n",
       "      <td>0</td>\n",
       "      <td>0</td>\n",
       "      <td>NaN</td>\n",
       "      <td>Feroz Shah Kotla</td>\n",
       "      <td>SS Hazare</td>\n",
       "      <td>RJ Tucker</td>\n",
       "      <td>NaN</td>\n",
       "    </tr>\n",
       "    <tr>\n",
       "      <th>545</th>\n",
       "      <td>546</td>\n",
       "      <td>2015</td>\n",
       "      <td>Bangalore</td>\n",
       "      <td>2015-04-29</td>\n",
       "      <td>Royal Challengers Bangalore</td>\n",
       "      <td>Rajasthan Royals</td>\n",
       "      <td>Rajasthan Royals</td>\n",
       "      <td>field</td>\n",
       "      <td>no result</td>\n",
       "      <td>0</td>\n",
       "      <td>NaN</td>\n",
       "      <td>0</td>\n",
       "      <td>0</td>\n",
       "      <td>NaN</td>\n",
       "      <td>M Chinnaswamy Stadium</td>\n",
       "      <td>JD Cloete</td>\n",
       "      <td>PG Pathak</td>\n",
       "      <td>NaN</td>\n",
       "    </tr>\n",
       "    <tr>\n",
       "      <th>570</th>\n",
       "      <td>571</td>\n",
       "      <td>2015</td>\n",
       "      <td>Bangalore</td>\n",
       "      <td>2015-05-17</td>\n",
       "      <td>Delhi Daredevils</td>\n",
       "      <td>Royal Challengers Bangalore</td>\n",
       "      <td>Royal Challengers Bangalore</td>\n",
       "      <td>field</td>\n",
       "      <td>no result</td>\n",
       "      <td>0</td>\n",
       "      <td>NaN</td>\n",
       "      <td>0</td>\n",
       "      <td>0</td>\n",
       "      <td>NaN</td>\n",
       "      <td>M Chinnaswamy Stadium</td>\n",
       "      <td>HDPK Dharmasena</td>\n",
       "      <td>K Srinivasan</td>\n",
       "      <td>NaN</td>\n",
       "    </tr>\n",
       "    <tr>\n",
       "      <th>744</th>\n",
       "      <td>11340</td>\n",
       "      <td>2019</td>\n",
       "      <td>Bengaluru</td>\n",
       "      <td>30/04/19</td>\n",
       "      <td>Royal Challengers Bangalore</td>\n",
       "      <td>Rajasthan Royals</td>\n",
       "      <td>Rajasthan Royals</td>\n",
       "      <td>field</td>\n",
       "      <td>no result</td>\n",
       "      <td>0</td>\n",
       "      <td>NaN</td>\n",
       "      <td>0</td>\n",
       "      <td>0</td>\n",
       "      <td>NaN</td>\n",
       "      <td>M. Chinnaswamy Stadium</td>\n",
       "      <td>Nigel Llong</td>\n",
       "      <td>Ulhas Gandhe</td>\n",
       "      <td>Anil Chaudhary</td>\n",
       "    </tr>\n",
       "  </tbody>\n",
       "</table>\n",
       "</div>"
      ],
      "text/plain": [
       "        id  season       city        date                        team1  \\\n",
       "300    301    2011      Delhi  2011-05-21             Delhi Daredevils   \n",
       "545    546    2015  Bangalore  2015-04-29  Royal Challengers Bangalore   \n",
       "570    571    2015  Bangalore  2015-05-17             Delhi Daredevils   \n",
       "744  11340    2019  Bengaluru    30/04/19  Royal Challengers Bangalore   \n",
       "\n",
       "                           team2                  toss_winner toss_decision  \\\n",
       "300                Pune Warriors             Delhi Daredevils           bat   \n",
       "545             Rajasthan Royals             Rajasthan Royals         field   \n",
       "570  Royal Challengers Bangalore  Royal Challengers Bangalore         field   \n",
       "744             Rajasthan Royals             Rajasthan Royals         field   \n",
       "\n",
       "        result  dl_applied winner  win_by_runs  win_by_wickets  \\\n",
       "300  no result           0    NaN            0               0   \n",
       "545  no result           0    NaN            0               0   \n",
       "570  no result           0    NaN            0               0   \n",
       "744  no result           0    NaN            0               0   \n",
       "\n",
       "    player_of_match                   venue          umpire1       umpire2  \\\n",
       "300             NaN        Feroz Shah Kotla        SS Hazare     RJ Tucker   \n",
       "545             NaN   M Chinnaswamy Stadium        JD Cloete     PG Pathak   \n",
       "570             NaN   M Chinnaswamy Stadium  HDPK Dharmasena  K Srinivasan   \n",
       "744             NaN  M. Chinnaswamy Stadium      Nigel Llong  Ulhas Gandhe   \n",
       "\n",
       "            umpire3  \n",
       "300             NaN  \n",
       "545             NaN  \n",
       "570             NaN  \n",
       "744  Anil Chaudhary  "
      ]
     },
     "execution_count": 9,
     "metadata": {},
     "output_type": "execute_result"
    }
   ],
   "source": [
    "#detect missing values for winner column in matches\n",
    "matches[pd.isnull(matches['winner'])]"
   ]
  },
  {
   "cell_type": "markdown",
   "metadata": {},
   "source": [
    "> Replace missing values in \"winner\" with \"Draw\" as a match that doesn't have a winner is declared Draw"
   ]
  },
  {
   "cell_type": "code",
   "execution_count": 10,
   "metadata": {
    "_cell_guid": "e0f4b1e8-c456-4326-916e-d2c31a5ed1b1",
    "_uuid": "554b5faf595dadc27311566b5c4d2a3c2e38d301"
   },
   "outputs": [],
   "source": [
    "#replace null values in winner with \"Draw\" since an undecided winner of a match clearly means it is a draw\n",
    "matches['winner'].fillna('Draw', inplace=True)"
   ]
  },
  {
   "cell_type": "markdown",
   "metadata": {},
   "source": [
    "> Find the number of unique teams in the entire dataset"
   ]
  },
  {
   "cell_type": "code",
   "execution_count": 11,
   "metadata": {},
   "outputs": [
    {
     "name": "stdout",
     "output_type": "stream",
     "text": [
      "15\n"
     ]
    }
   ],
   "source": [
    "#print the number of unique teams in the given dataset\n",
    "print(str(matches['team1'].nunique()))"
   ]
  },
  {
   "cell_type": "markdown",
   "metadata": {},
   "source": [
    "> Encode the team names to abbreviations for ease"
   ]
  },
  {
   "cell_type": "code",
   "execution_count": 12,
   "metadata": {
    "_cell_guid": "3379288c-b75b-49bf-ba1f-cb587711fb2d",
    "_uuid": "50eadf5ec6d3067761775e5287f5c65afdbc2ec7",
    "scrolled": true
   },
   "outputs": [],
   "source": [
    "#replace the team names wih their abbreviations as follows\n",
    "#Note that Rising Pune Supergiant and Rising Pune Supergiants are the same, thus encoded the same\n",
    "matches.replace(['Mumbai Indians','Kolkata Knight Riders','Royal Challengers Bangalore','Deccan Chargers','Chennai Super Kings',\n",
    "                 'Rajasthan Royals','Delhi Daredevils','Gujarat Lions','Kings XI Punjab',\n",
    "                 'Sunrisers Hyderabad','Rising Pune Supergiants','Rising Pune Supergiant','Kochi Tuskers Kerala','Pune Warriors', 'Delhi Capitals']\n",
    "                ,['MI','KKR','RCB','DC','CSK','RR','DD','GL','KXIP','SRH','RPS','RPS','KTK','PW','DLC'],inplace=True)\n",
    "\n",
    "#encode the abbreviated names of teams into numbers for applying models further\n",
    "encode = {'team1': {'MI':1,'KKR':2,'RCB':3,'DC':4,'CSK':5,'RR':6,'DD':7,'GL':8,'KXIP':9,'SRH':10,'RPS':11,'KTK':12,'PW':13,'DLC':14},\n",
    "          'team2': {'MI':1,'KKR':2,'RCB':3,'DC':4,'CSK':5,'RR':6,'DD':7,'GL':8,'KXIP':9,'SRH':10,'RPS':11,'KTK':12,'PW':13,'DLC':14},\n",
    "          'toss_winner': {'MI':1,'KKR':2,'RCB':3,'DC':4,'CSK':5,'RR':6,'DD':7,'GL':8,'KXIP':9,'SRH':10,'RPS':11,'KTK':12,'PW':13,'DLC':14},\n",
    "          'winner': {'MI':1,'KKR':2,'RCB':3,'DC':4,'CSK':5,'RR':6,'DD':7,'GL':8,'KXIP':9,'SRH':10,'RPS':11,'KTK':12,'PW':13,'DLC':14,'Draw':15}}\n"
   ]
  },
  {
   "cell_type": "markdown",
   "metadata": {},
   "source": [
    "> Replace the team names with encoded abbreviations in the entire dataset"
   ]
  },
  {
   "cell_type": "code",
   "execution_count": 13,
   "metadata": {},
   "outputs": [
    {
     "data": {
      "text/html": [
       "<div>\n",
       "<style scoped>\n",
       "    .dataframe tbody tr th:only-of-type {\n",
       "        vertical-align: middle;\n",
       "    }\n",
       "\n",
       "    .dataframe tbody tr th {\n",
       "        vertical-align: top;\n",
       "    }\n",
       "\n",
       "    .dataframe thead th {\n",
       "        text-align: right;\n",
       "    }\n",
       "</style>\n",
       "<table border=\"1\" class=\"dataframe\">\n",
       "  <thead>\n",
       "    <tr style=\"text-align: right;\">\n",
       "      <th></th>\n",
       "      <th>id</th>\n",
       "      <th>season</th>\n",
       "      <th>city</th>\n",
       "      <th>date</th>\n",
       "      <th>team1</th>\n",
       "      <th>team2</th>\n",
       "      <th>toss_winner</th>\n",
       "      <th>toss_decision</th>\n",
       "      <th>result</th>\n",
       "      <th>dl_applied</th>\n",
       "      <th>winner</th>\n",
       "      <th>win_by_runs</th>\n",
       "      <th>win_by_wickets</th>\n",
       "      <th>player_of_match</th>\n",
       "      <th>venue</th>\n",
       "      <th>umpire1</th>\n",
       "      <th>umpire2</th>\n",
       "      <th>umpire3</th>\n",
       "    </tr>\n",
       "  </thead>\n",
       "  <tbody>\n",
       "    <tr>\n",
       "      <th>0</th>\n",
       "      <td>1</td>\n",
       "      <td>2017</td>\n",
       "      <td>Hyderabad</td>\n",
       "      <td>2017-04-05</td>\n",
       "      <td>10</td>\n",
       "      <td>3</td>\n",
       "      <td>3</td>\n",
       "      <td>field</td>\n",
       "      <td>normal</td>\n",
       "      <td>0</td>\n",
       "      <td>10</td>\n",
       "      <td>35</td>\n",
       "      <td>0</td>\n",
       "      <td>Yuvraj Singh</td>\n",
       "      <td>Rajiv Gandhi International Stadium, Uppal</td>\n",
       "      <td>AY Dandekar</td>\n",
       "      <td>NJ Llong</td>\n",
       "      <td>NaN</td>\n",
       "    </tr>\n",
       "    <tr>\n",
       "      <th>1</th>\n",
       "      <td>2</td>\n",
       "      <td>2017</td>\n",
       "      <td>Pune</td>\n",
       "      <td>2017-04-06</td>\n",
       "      <td>1</td>\n",
       "      <td>11</td>\n",
       "      <td>11</td>\n",
       "      <td>field</td>\n",
       "      <td>normal</td>\n",
       "      <td>0</td>\n",
       "      <td>11</td>\n",
       "      <td>0</td>\n",
       "      <td>7</td>\n",
       "      <td>SPD Smith</td>\n",
       "      <td>Maharashtra Cricket Association Stadium</td>\n",
       "      <td>A Nand Kishore</td>\n",
       "      <td>S Ravi</td>\n",
       "      <td>NaN</td>\n",
       "    </tr>\n",
       "  </tbody>\n",
       "</table>\n",
       "</div>"
      ],
      "text/plain": [
       "   id  season       city        date  team1  team2  toss_winner toss_decision  \\\n",
       "0   1    2017  Hyderabad  2017-04-05     10      3            3         field   \n",
       "1   2    2017       Pune  2017-04-06      1     11           11         field   \n",
       "\n",
       "   result  dl_applied  winner  win_by_runs  win_by_wickets player_of_match  \\\n",
       "0  normal           0      10           35               0    Yuvraj Singh   \n",
       "1  normal           0      11            0               7       SPD Smith   \n",
       "\n",
       "                                       venue         umpire1   umpire2 umpire3  \n",
       "0  Rajiv Gandhi International Stadium, Uppal     AY Dandekar  NJ Llong     NaN  \n",
       "1    Maharashtra Cricket Association Stadium  A Nand Kishore    S Ravi     NaN  "
      ]
     },
     "execution_count": 13,
     "metadata": {},
     "output_type": "execute_result"
    }
   ],
   "source": [
    "#replace team1, team2, toss_winner and winner columns values with values of the same in the encoded dataframe in place\n",
    "matches.replace(encode, inplace=True)\n",
    "matches.head(2)"
   ]
  },
  {
   "cell_type": "markdown",
   "metadata": {},
   "source": [
    "> Find the rows corresponding to null values for \"city\""
   ]
  },
  {
   "cell_type": "code",
   "execution_count": 14,
   "metadata": {
    "_cell_guid": "5a5effe0-0045-4c07-a6b5-c1865ba8ae27",
    "_uuid": "09ccf7d5f02e7f7d56029ea7f86968de5f6222dc"
   },
   "outputs": [
    {
     "data": {
      "text/html": [
       "<div>\n",
       "<style scoped>\n",
       "    .dataframe tbody tr th:only-of-type {\n",
       "        vertical-align: middle;\n",
       "    }\n",
       "\n",
       "    .dataframe tbody tr th {\n",
       "        vertical-align: top;\n",
       "    }\n",
       "\n",
       "    .dataframe thead th {\n",
       "        text-align: right;\n",
       "    }\n",
       "</style>\n",
       "<table border=\"1\" class=\"dataframe\">\n",
       "  <thead>\n",
       "    <tr style=\"text-align: right;\">\n",
       "      <th></th>\n",
       "      <th>id</th>\n",
       "      <th>season</th>\n",
       "      <th>city</th>\n",
       "      <th>date</th>\n",
       "      <th>team1</th>\n",
       "      <th>team2</th>\n",
       "      <th>toss_winner</th>\n",
       "      <th>toss_decision</th>\n",
       "      <th>result</th>\n",
       "      <th>dl_applied</th>\n",
       "      <th>winner</th>\n",
       "      <th>win_by_runs</th>\n",
       "      <th>win_by_wickets</th>\n",
       "      <th>player_of_match</th>\n",
       "      <th>venue</th>\n",
       "      <th>umpire1</th>\n",
       "      <th>umpire2</th>\n",
       "      <th>umpire3</th>\n",
       "    </tr>\n",
       "  </thead>\n",
       "  <tbody>\n",
       "    <tr>\n",
       "      <th>461</th>\n",
       "      <td>462</td>\n",
       "      <td>2014</td>\n",
       "      <td>NaN</td>\n",
       "      <td>2014-04-19</td>\n",
       "      <td>1</td>\n",
       "      <td>3</td>\n",
       "      <td>3</td>\n",
       "      <td>field</td>\n",
       "      <td>normal</td>\n",
       "      <td>0</td>\n",
       "      <td>3</td>\n",
       "      <td>0</td>\n",
       "      <td>7</td>\n",
       "      <td>PA Patel</td>\n",
       "      <td>Dubai International Cricket Stadium</td>\n",
       "      <td>Aleem Dar</td>\n",
       "      <td>AK Chaudhary</td>\n",
       "      <td>NaN</td>\n",
       "    </tr>\n",
       "    <tr>\n",
       "      <th>462</th>\n",
       "      <td>463</td>\n",
       "      <td>2014</td>\n",
       "      <td>NaN</td>\n",
       "      <td>2014-04-19</td>\n",
       "      <td>2</td>\n",
       "      <td>7</td>\n",
       "      <td>2</td>\n",
       "      <td>bat</td>\n",
       "      <td>normal</td>\n",
       "      <td>0</td>\n",
       "      <td>7</td>\n",
       "      <td>0</td>\n",
       "      <td>4</td>\n",
       "      <td>JP Duminy</td>\n",
       "      <td>Dubai International Cricket Stadium</td>\n",
       "      <td>Aleem Dar</td>\n",
       "      <td>VA Kulkarni</td>\n",
       "      <td>NaN</td>\n",
       "    </tr>\n",
       "    <tr>\n",
       "      <th>466</th>\n",
       "      <td>467</td>\n",
       "      <td>2014</td>\n",
       "      <td>NaN</td>\n",
       "      <td>2014-04-23</td>\n",
       "      <td>5</td>\n",
       "      <td>6</td>\n",
       "      <td>6</td>\n",
       "      <td>field</td>\n",
       "      <td>normal</td>\n",
       "      <td>0</td>\n",
       "      <td>5</td>\n",
       "      <td>7</td>\n",
       "      <td>0</td>\n",
       "      <td>RA Jadeja</td>\n",
       "      <td>Dubai International Cricket Stadium</td>\n",
       "      <td>HDPK Dharmasena</td>\n",
       "      <td>RK Illingworth</td>\n",
       "      <td>NaN</td>\n",
       "    </tr>\n",
       "    <tr>\n",
       "      <th>468</th>\n",
       "      <td>469</td>\n",
       "      <td>2014</td>\n",
       "      <td>NaN</td>\n",
       "      <td>2014-04-25</td>\n",
       "      <td>10</td>\n",
       "      <td>7</td>\n",
       "      <td>10</td>\n",
       "      <td>bat</td>\n",
       "      <td>normal</td>\n",
       "      <td>0</td>\n",
       "      <td>10</td>\n",
       "      <td>4</td>\n",
       "      <td>0</td>\n",
       "      <td>AJ Finch</td>\n",
       "      <td>Dubai International Cricket Stadium</td>\n",
       "      <td>M Erasmus</td>\n",
       "      <td>S Ravi</td>\n",
       "      <td>NaN</td>\n",
       "    </tr>\n",
       "    <tr>\n",
       "      <th>469</th>\n",
       "      <td>470</td>\n",
       "      <td>2014</td>\n",
       "      <td>NaN</td>\n",
       "      <td>2014-04-25</td>\n",
       "      <td>1</td>\n",
       "      <td>5</td>\n",
       "      <td>1</td>\n",
       "      <td>bat</td>\n",
       "      <td>normal</td>\n",
       "      <td>0</td>\n",
       "      <td>5</td>\n",
       "      <td>0</td>\n",
       "      <td>7</td>\n",
       "      <td>MM Sharma</td>\n",
       "      <td>Dubai International Cricket Stadium</td>\n",
       "      <td>BF Bowden</td>\n",
       "      <td>M Erasmus</td>\n",
       "      <td>NaN</td>\n",
       "    </tr>\n",
       "    <tr>\n",
       "      <th>474</th>\n",
       "      <td>475</td>\n",
       "      <td>2014</td>\n",
       "      <td>NaN</td>\n",
       "      <td>2014-04-28</td>\n",
       "      <td>3</td>\n",
       "      <td>9</td>\n",
       "      <td>9</td>\n",
       "      <td>field</td>\n",
       "      <td>normal</td>\n",
       "      <td>0</td>\n",
       "      <td>9</td>\n",
       "      <td>0</td>\n",
       "      <td>5</td>\n",
       "      <td>Sandeep Sharma</td>\n",
       "      <td>Dubai International Cricket Stadium</td>\n",
       "      <td>BF Bowden</td>\n",
       "      <td>S Ravi</td>\n",
       "      <td>NaN</td>\n",
       "    </tr>\n",
       "    <tr>\n",
       "      <th>476</th>\n",
       "      <td>477</td>\n",
       "      <td>2014</td>\n",
       "      <td>NaN</td>\n",
       "      <td>2014-04-30</td>\n",
       "      <td>10</td>\n",
       "      <td>1</td>\n",
       "      <td>1</td>\n",
       "      <td>field</td>\n",
       "      <td>normal</td>\n",
       "      <td>0</td>\n",
       "      <td>10</td>\n",
       "      <td>15</td>\n",
       "      <td>0</td>\n",
       "      <td>B Kumar</td>\n",
       "      <td>Dubai International Cricket Stadium</td>\n",
       "      <td>HDPK Dharmasena</td>\n",
       "      <td>M Erasmus</td>\n",
       "      <td>NaN</td>\n",
       "    </tr>\n",
       "  </tbody>\n",
       "</table>\n",
       "</div>"
      ],
      "text/plain": [
       "      id  season city        date  team1  team2  toss_winner toss_decision  \\\n",
       "461  462    2014  NaN  2014-04-19      1      3            3         field   \n",
       "462  463    2014  NaN  2014-04-19      2      7            2           bat   \n",
       "466  467    2014  NaN  2014-04-23      5      6            6         field   \n",
       "468  469    2014  NaN  2014-04-25     10      7           10           bat   \n",
       "469  470    2014  NaN  2014-04-25      1      5            1           bat   \n",
       "474  475    2014  NaN  2014-04-28      3      9            9         field   \n",
       "476  477    2014  NaN  2014-04-30     10      1            1         field   \n",
       "\n",
       "     result  dl_applied  winner  win_by_runs  win_by_wickets player_of_match  \\\n",
       "461  normal           0       3            0               7        PA Patel   \n",
       "462  normal           0       7            0               4       JP Duminy   \n",
       "466  normal           0       5            7               0       RA Jadeja   \n",
       "468  normal           0      10            4               0        AJ Finch   \n",
       "469  normal           0       5            0               7       MM Sharma   \n",
       "474  normal           0       9            0               5  Sandeep Sharma   \n",
       "476  normal           0      10           15               0         B Kumar   \n",
       "\n",
       "                                   venue          umpire1         umpire2  \\\n",
       "461  Dubai International Cricket Stadium        Aleem Dar    AK Chaudhary   \n",
       "462  Dubai International Cricket Stadium        Aleem Dar     VA Kulkarni   \n",
       "466  Dubai International Cricket Stadium  HDPK Dharmasena  RK Illingworth   \n",
       "468  Dubai International Cricket Stadium        M Erasmus          S Ravi   \n",
       "469  Dubai International Cricket Stadium        BF Bowden       M Erasmus   \n",
       "474  Dubai International Cricket Stadium        BF Bowden          S Ravi   \n",
       "476  Dubai International Cricket Stadium  HDPK Dharmasena       M Erasmus   \n",
       "\n",
       "    umpire3  \n",
       "461     NaN  \n",
       "462     NaN  \n",
       "466     NaN  \n",
       "468     NaN  \n",
       "469     NaN  \n",
       "474     NaN  \n",
       "476     NaN  "
      ]
     },
     "execution_count": 14,
     "metadata": {},
     "output_type": "execute_result"
    }
   ],
   "source": [
    "#Find rows that have null city values\n",
    "matches[pd.isnull(matches['city'])]"
   ]
  },
  {
   "cell_type": "markdown",
   "metadata": {},
   "source": [
    "> Replace the null values in \"city\" with \"Dubai\""
   ]
  },
  {
   "cell_type": "code",
   "execution_count": 15,
   "metadata": {
    "_cell_guid": "ecb32737-0f39-476b-b52d-f74cf5eab927",
    "_uuid": "889aec3128d425cf7e99714c570c164b069dfaf3"
   },
   "outputs": [
    {
     "data": {
      "text/html": [
       "<div>\n",
       "<style scoped>\n",
       "    .dataframe tbody tr th:only-of-type {\n",
       "        vertical-align: middle;\n",
       "    }\n",
       "\n",
       "    .dataframe tbody tr th {\n",
       "        vertical-align: top;\n",
       "    }\n",
       "\n",
       "    .dataframe thead th {\n",
       "        text-align: right;\n",
       "    }\n",
       "</style>\n",
       "<table border=\"1\" class=\"dataframe\">\n",
       "  <thead>\n",
       "    <tr style=\"text-align: right;\">\n",
       "      <th></th>\n",
       "      <th>id</th>\n",
       "      <th>season</th>\n",
       "      <th>team1</th>\n",
       "      <th>team2</th>\n",
       "      <th>toss_winner</th>\n",
       "      <th>dl_applied</th>\n",
       "      <th>winner</th>\n",
       "      <th>win_by_runs</th>\n",
       "      <th>win_by_wickets</th>\n",
       "    </tr>\n",
       "  </thead>\n",
       "  <tbody>\n",
       "    <tr>\n",
       "      <th>count</th>\n",
       "      <td>756.000000</td>\n",
       "      <td>756.000000</td>\n",
       "      <td>756.000000</td>\n",
       "      <td>756.000000</td>\n",
       "      <td>756.000000</td>\n",
       "      <td>756.000000</td>\n",
       "      <td>756.000000</td>\n",
       "      <td>756.000000</td>\n",
       "      <td>756.000000</td>\n",
       "    </tr>\n",
       "    <tr>\n",
       "      <th>mean</th>\n",
       "      <td>1792.178571</td>\n",
       "      <td>2013.444444</td>\n",
       "      <td>5.554233</td>\n",
       "      <td>5.604497</td>\n",
       "      <td>5.462963</td>\n",
       "      <td>0.025132</td>\n",
       "      <td>5.416667</td>\n",
       "      <td>13.283069</td>\n",
       "      <td>3.350529</td>\n",
       "    </tr>\n",
       "    <tr>\n",
       "      <th>std</th>\n",
       "      <td>3464.478148</td>\n",
       "      <td>3.366895</td>\n",
       "      <td>3.389656</td>\n",
       "      <td>3.411850</td>\n",
       "      <td>3.361638</td>\n",
       "      <td>0.156630</td>\n",
       "      <td>3.421736</td>\n",
       "      <td>23.471144</td>\n",
       "      <td>3.387963</td>\n",
       "    </tr>\n",
       "    <tr>\n",
       "      <th>min</th>\n",
       "      <td>1.000000</td>\n",
       "      <td>2008.000000</td>\n",
       "      <td>1.000000</td>\n",
       "      <td>1.000000</td>\n",
       "      <td>1.000000</td>\n",
       "      <td>0.000000</td>\n",
       "      <td>1.000000</td>\n",
       "      <td>0.000000</td>\n",
       "      <td>0.000000</td>\n",
       "    </tr>\n",
       "    <tr>\n",
       "      <th>25%</th>\n",
       "      <td>189.750000</td>\n",
       "      <td>2011.000000</td>\n",
       "      <td>3.000000</td>\n",
       "      <td>3.000000</td>\n",
       "      <td>2.000000</td>\n",
       "      <td>0.000000</td>\n",
       "      <td>2.000000</td>\n",
       "      <td>0.000000</td>\n",
       "      <td>0.000000</td>\n",
       "    </tr>\n",
       "    <tr>\n",
       "      <th>50%</th>\n",
       "      <td>378.500000</td>\n",
       "      <td>2013.000000</td>\n",
       "      <td>5.000000</td>\n",
       "      <td>5.000000</td>\n",
       "      <td>5.000000</td>\n",
       "      <td>0.000000</td>\n",
       "      <td>5.000000</td>\n",
       "      <td>0.000000</td>\n",
       "      <td>4.000000</td>\n",
       "    </tr>\n",
       "    <tr>\n",
       "      <th>75%</th>\n",
       "      <td>567.250000</td>\n",
       "      <td>2016.000000</td>\n",
       "      <td>9.000000</td>\n",
       "      <td>8.000000</td>\n",
       "      <td>8.000000</td>\n",
       "      <td>0.000000</td>\n",
       "      <td>8.000000</td>\n",
       "      <td>19.000000</td>\n",
       "      <td>6.000000</td>\n",
       "    </tr>\n",
       "    <tr>\n",
       "      <th>max</th>\n",
       "      <td>11415.000000</td>\n",
       "      <td>2019.000000</td>\n",
       "      <td>14.000000</td>\n",
       "      <td>14.000000</td>\n",
       "      <td>14.000000</td>\n",
       "      <td>1.000000</td>\n",
       "      <td>15.000000</td>\n",
       "      <td>146.000000</td>\n",
       "      <td>10.000000</td>\n",
       "    </tr>\n",
       "  </tbody>\n",
       "</table>\n",
       "</div>"
      ],
      "text/plain": [
       "                 id       season       team1       team2  toss_winner  \\\n",
       "count    756.000000   756.000000  756.000000  756.000000   756.000000   \n",
       "mean    1792.178571  2013.444444    5.554233    5.604497     5.462963   \n",
       "std     3464.478148     3.366895    3.389656    3.411850     3.361638   \n",
       "min        1.000000  2008.000000    1.000000    1.000000     1.000000   \n",
       "25%      189.750000  2011.000000    3.000000    3.000000     2.000000   \n",
       "50%      378.500000  2013.000000    5.000000    5.000000     5.000000   \n",
       "75%      567.250000  2016.000000    9.000000    8.000000     8.000000   \n",
       "max    11415.000000  2019.000000   14.000000   14.000000    14.000000   \n",
       "\n",
       "       dl_applied      winner  win_by_runs  win_by_wickets  \n",
       "count  756.000000  756.000000   756.000000      756.000000  \n",
       "mean     0.025132    5.416667    13.283069        3.350529  \n",
       "std      0.156630    3.421736    23.471144        3.387963  \n",
       "min      0.000000    1.000000     0.000000        0.000000  \n",
       "25%      0.000000    2.000000     0.000000        0.000000  \n",
       "50%      0.000000    5.000000     0.000000        4.000000  \n",
       "75%      0.000000    8.000000    19.000000        6.000000  \n",
       "max      1.000000   15.000000   146.000000       10.000000  "
      ]
     },
     "execution_count": 15,
     "metadata": {},
     "output_type": "execute_result"
    }
   ],
   "source": [
    "#remove any null values, winner has, hence fill the null value in winner as draw\n",
    "#City is also null\n",
    "matches['city'].fillna('Dubai',inplace=True)\n",
    "matches.describe()"
   ]
  },
  {
   "cell_type": "markdown",
   "metadata": {},
   "source": [
    "> Store the \"winner\" in a dictionary"
   ]
  },
  {
   "cell_type": "code",
   "execution_count": 16,
   "metadata": {
    "_cell_guid": "3b8b05ed-f20e-4713-9d2e-3daf430eceb6",
    "_uuid": "30ab2dcb21ad5f951be6c56c25b5166d6c388692"
   },
   "outputs": [
    {
     "name": "stdout",
     "output_type": "stream",
     "text": [
      "{'MI': 1, 'KKR': 2, 'RCB': 3, 'DC': 4, 'CSK': 5, 'RR': 6, 'DD': 7, 'GL': 8, 'KXIP': 9, 'SRH': 10, 'RPS': 11, 'KTK': 12, 'PW': 13, 'DLC': 14, 'Draw': 15}\n"
     ]
    }
   ],
   "source": [
    "#store the winner columns of matches into a dictionary dicVal\n",
    "dicVal = encode['winner']\n",
    "\n",
    "#print the dictionary\n",
    "print(dicVal)\n",
    "\n",
    "#print(dicVal['MI']) #key value\n",
    "#print(list(dicVal.keys())[list(dicVal.values()).index(1)]) #find key by value search "
   ]
  },
  {
   "cell_type": "markdown",
   "metadata": {},
   "source": [
    "> Make a new pandas dataframe df_matches to work on and process"
   ]
  },
  {
   "cell_type": "code",
   "execution_count": 17,
   "metadata": {
    "_cell_guid": "1fd6e17a-7031-4205-b6e9-3a62a2f4c4fc",
    "_uuid": "0dde32b2190ed99290afe50a5955db11f54c725a"
   },
   "outputs": [
    {
     "data": {
      "text/html": [
       "<div>\n",
       "<style scoped>\n",
       "    .dataframe tbody tr th:only-of-type {\n",
       "        vertical-align: middle;\n",
       "    }\n",
       "\n",
       "    .dataframe tbody tr th {\n",
       "        vertical-align: top;\n",
       "    }\n",
       "\n",
       "    .dataframe thead th {\n",
       "        text-align: right;\n",
       "    }\n",
       "</style>\n",
       "<table border=\"1\" class=\"dataframe\">\n",
       "  <thead>\n",
       "    <tr style=\"text-align: right;\">\n",
       "      <th></th>\n",
       "      <th>id</th>\n",
       "      <th>season</th>\n",
       "      <th>team1</th>\n",
       "      <th>team2</th>\n",
       "      <th>toss_winner</th>\n",
       "      <th>dl_applied</th>\n",
       "      <th>winner</th>\n",
       "      <th>win_by_runs</th>\n",
       "      <th>win_by_wickets</th>\n",
       "    </tr>\n",
       "  </thead>\n",
       "  <tbody>\n",
       "    <tr>\n",
       "      <th>count</th>\n",
       "      <td>756.000000</td>\n",
       "      <td>756.000000</td>\n",
       "      <td>756.000000</td>\n",
       "      <td>756.000000</td>\n",
       "      <td>756.000000</td>\n",
       "      <td>756.000000</td>\n",
       "      <td>756.000000</td>\n",
       "      <td>756.000000</td>\n",
       "      <td>756.000000</td>\n",
       "    </tr>\n",
       "    <tr>\n",
       "      <th>mean</th>\n",
       "      <td>1792.178571</td>\n",
       "      <td>2013.444444</td>\n",
       "      <td>5.554233</td>\n",
       "      <td>5.604497</td>\n",
       "      <td>5.462963</td>\n",
       "      <td>0.025132</td>\n",
       "      <td>5.416667</td>\n",
       "      <td>13.283069</td>\n",
       "      <td>3.350529</td>\n",
       "    </tr>\n",
       "    <tr>\n",
       "      <th>std</th>\n",
       "      <td>3464.478148</td>\n",
       "      <td>3.366895</td>\n",
       "      <td>3.389656</td>\n",
       "      <td>3.411850</td>\n",
       "      <td>3.361638</td>\n",
       "      <td>0.156630</td>\n",
       "      <td>3.421736</td>\n",
       "      <td>23.471144</td>\n",
       "      <td>3.387963</td>\n",
       "    </tr>\n",
       "    <tr>\n",
       "      <th>min</th>\n",
       "      <td>1.000000</td>\n",
       "      <td>2008.000000</td>\n",
       "      <td>1.000000</td>\n",
       "      <td>1.000000</td>\n",
       "      <td>1.000000</td>\n",
       "      <td>0.000000</td>\n",
       "      <td>1.000000</td>\n",
       "      <td>0.000000</td>\n",
       "      <td>0.000000</td>\n",
       "    </tr>\n",
       "    <tr>\n",
       "      <th>25%</th>\n",
       "      <td>189.750000</td>\n",
       "      <td>2011.000000</td>\n",
       "      <td>3.000000</td>\n",
       "      <td>3.000000</td>\n",
       "      <td>2.000000</td>\n",
       "      <td>0.000000</td>\n",
       "      <td>2.000000</td>\n",
       "      <td>0.000000</td>\n",
       "      <td>0.000000</td>\n",
       "    </tr>\n",
       "    <tr>\n",
       "      <th>50%</th>\n",
       "      <td>378.500000</td>\n",
       "      <td>2013.000000</td>\n",
       "      <td>5.000000</td>\n",
       "      <td>5.000000</td>\n",
       "      <td>5.000000</td>\n",
       "      <td>0.000000</td>\n",
       "      <td>5.000000</td>\n",
       "      <td>0.000000</td>\n",
       "      <td>4.000000</td>\n",
       "    </tr>\n",
       "    <tr>\n",
       "      <th>75%</th>\n",
       "      <td>567.250000</td>\n",
       "      <td>2016.000000</td>\n",
       "      <td>9.000000</td>\n",
       "      <td>8.000000</td>\n",
       "      <td>8.000000</td>\n",
       "      <td>0.000000</td>\n",
       "      <td>8.000000</td>\n",
       "      <td>19.000000</td>\n",
       "      <td>6.000000</td>\n",
       "    </tr>\n",
       "    <tr>\n",
       "      <th>max</th>\n",
       "      <td>11415.000000</td>\n",
       "      <td>2019.000000</td>\n",
       "      <td>14.000000</td>\n",
       "      <td>14.000000</td>\n",
       "      <td>14.000000</td>\n",
       "      <td>1.000000</td>\n",
       "      <td>15.000000</td>\n",
       "      <td>146.000000</td>\n",
       "      <td>10.000000</td>\n",
       "    </tr>\n",
       "  </tbody>\n",
       "</table>\n",
       "</div>"
      ],
      "text/plain": [
       "                 id       season       team1       team2  toss_winner  \\\n",
       "count    756.000000   756.000000  756.000000  756.000000   756.000000   \n",
       "mean    1792.178571  2013.444444    5.554233    5.604497     5.462963   \n",
       "std     3464.478148     3.366895    3.389656    3.411850     3.361638   \n",
       "min        1.000000  2008.000000    1.000000    1.000000     1.000000   \n",
       "25%      189.750000  2011.000000    3.000000    3.000000     2.000000   \n",
       "50%      378.500000  2013.000000    5.000000    5.000000     5.000000   \n",
       "75%      567.250000  2016.000000    9.000000    8.000000     8.000000   \n",
       "max    11415.000000  2019.000000   14.000000   14.000000    14.000000   \n",
       "\n",
       "       dl_applied      winner  win_by_runs  win_by_wickets  \n",
       "count  756.000000  756.000000   756.000000      756.000000  \n",
       "mean     0.025132    5.416667    13.283069        3.350529  \n",
       "std      0.156630    3.421736    23.471144        3.387963  \n",
       "min      0.000000    1.000000     0.000000        0.000000  \n",
       "25%      0.000000    2.000000     0.000000        0.000000  \n",
       "50%      0.000000    5.000000     0.000000        4.000000  \n",
       "75%      0.000000    8.000000    19.000000        6.000000  \n",
       "max      1.000000   15.000000   146.000000       10.000000  "
      ]
     },
     "execution_count": 17,
     "metadata": {},
     "output_type": "execute_result"
    }
   ],
   "source": [
    "#details of matches\n",
    "df_matches = pd.DataFrame(matches)\n",
    "df_matches.describe()"
   ]
  },
  {
   "cell_type": "code",
   "execution_count": 18,
   "metadata": {},
   "outputs": [
    {
     "data": {
      "text/html": [
       "<div>\n",
       "<style scoped>\n",
       "    .dataframe tbody tr th:only-of-type {\n",
       "        vertical-align: middle;\n",
       "    }\n",
       "\n",
       "    .dataframe tbody tr th {\n",
       "        vertical-align: top;\n",
       "    }\n",
       "\n",
       "    .dataframe thead th {\n",
       "        text-align: right;\n",
       "    }\n",
       "</style>\n",
       "<table border=\"1\" class=\"dataframe\">\n",
       "  <thead>\n",
       "    <tr style=\"text-align: right;\">\n",
       "      <th></th>\n",
       "      <th>id</th>\n",
       "      <th>season</th>\n",
       "      <th>city</th>\n",
       "      <th>date</th>\n",
       "      <th>team1</th>\n",
       "      <th>team2</th>\n",
       "      <th>toss_winner</th>\n",
       "      <th>toss_decision</th>\n",
       "      <th>result</th>\n",
       "      <th>dl_applied</th>\n",
       "      <th>winner</th>\n",
       "      <th>win_by_runs</th>\n",
       "      <th>win_by_wickets</th>\n",
       "      <th>player_of_match</th>\n",
       "      <th>venue</th>\n",
       "      <th>umpire1</th>\n",
       "      <th>umpire2</th>\n",
       "      <th>umpire3</th>\n",
       "    </tr>\n",
       "  </thead>\n",
       "  <tbody>\n",
       "    <tr>\n",
       "      <th>0</th>\n",
       "      <td>1</td>\n",
       "      <td>2017</td>\n",
       "      <td>Hyderabad</td>\n",
       "      <td>2017-04-05</td>\n",
       "      <td>10</td>\n",
       "      <td>3</td>\n",
       "      <td>3</td>\n",
       "      <td>field</td>\n",
       "      <td>normal</td>\n",
       "      <td>0</td>\n",
       "      <td>10</td>\n",
       "      <td>35</td>\n",
       "      <td>0</td>\n",
       "      <td>Yuvraj Singh</td>\n",
       "      <td>Rajiv Gandhi International Stadium, Uppal</td>\n",
       "      <td>AY Dandekar</td>\n",
       "      <td>NJ Llong</td>\n",
       "      <td>NaN</td>\n",
       "    </tr>\n",
       "    <tr>\n",
       "      <th>1</th>\n",
       "      <td>2</td>\n",
       "      <td>2017</td>\n",
       "      <td>Pune</td>\n",
       "      <td>2017-04-06</td>\n",
       "      <td>1</td>\n",
       "      <td>11</td>\n",
       "      <td>11</td>\n",
       "      <td>field</td>\n",
       "      <td>normal</td>\n",
       "      <td>0</td>\n",
       "      <td>11</td>\n",
       "      <td>0</td>\n",
       "      <td>7</td>\n",
       "      <td>SPD Smith</td>\n",
       "      <td>Maharashtra Cricket Association Stadium</td>\n",
       "      <td>A Nand Kishore</td>\n",
       "      <td>S Ravi</td>\n",
       "      <td>NaN</td>\n",
       "    </tr>\n",
       "    <tr>\n",
       "      <th>2</th>\n",
       "      <td>3</td>\n",
       "      <td>2017</td>\n",
       "      <td>Rajkot</td>\n",
       "      <td>2017-04-07</td>\n",
       "      <td>8</td>\n",
       "      <td>2</td>\n",
       "      <td>2</td>\n",
       "      <td>field</td>\n",
       "      <td>normal</td>\n",
       "      <td>0</td>\n",
       "      <td>2</td>\n",
       "      <td>0</td>\n",
       "      <td>10</td>\n",
       "      <td>CA Lynn</td>\n",
       "      <td>Saurashtra Cricket Association Stadium</td>\n",
       "      <td>Nitin Menon</td>\n",
       "      <td>CK Nandan</td>\n",
       "      <td>NaN</td>\n",
       "    </tr>\n",
       "    <tr>\n",
       "      <th>3</th>\n",
       "      <td>4</td>\n",
       "      <td>2017</td>\n",
       "      <td>Indore</td>\n",
       "      <td>2017-04-08</td>\n",
       "      <td>11</td>\n",
       "      <td>9</td>\n",
       "      <td>9</td>\n",
       "      <td>field</td>\n",
       "      <td>normal</td>\n",
       "      <td>0</td>\n",
       "      <td>9</td>\n",
       "      <td>0</td>\n",
       "      <td>6</td>\n",
       "      <td>GJ Maxwell</td>\n",
       "      <td>Holkar Cricket Stadium</td>\n",
       "      <td>AK Chaudhary</td>\n",
       "      <td>C Shamshuddin</td>\n",
       "      <td>NaN</td>\n",
       "    </tr>\n",
       "    <tr>\n",
       "      <th>4</th>\n",
       "      <td>5</td>\n",
       "      <td>2017</td>\n",
       "      <td>Bangalore</td>\n",
       "      <td>2017-04-08</td>\n",
       "      <td>3</td>\n",
       "      <td>7</td>\n",
       "      <td>3</td>\n",
       "      <td>bat</td>\n",
       "      <td>normal</td>\n",
       "      <td>0</td>\n",
       "      <td>3</td>\n",
       "      <td>15</td>\n",
       "      <td>0</td>\n",
       "      <td>KM Jadhav</td>\n",
       "      <td>M Chinnaswamy Stadium</td>\n",
       "      <td>NaN</td>\n",
       "      <td>NaN</td>\n",
       "      <td>NaN</td>\n",
       "    </tr>\n",
       "  </tbody>\n",
       "</table>\n",
       "</div>"
      ],
      "text/plain": [
       "   id  season       city        date  team1  team2  toss_winner toss_decision  \\\n",
       "0   1    2017  Hyderabad  2017-04-05     10      3            3         field   \n",
       "1   2    2017       Pune  2017-04-06      1     11           11         field   \n",
       "2   3    2017     Rajkot  2017-04-07      8      2            2         field   \n",
       "3   4    2017     Indore  2017-04-08     11      9            9         field   \n",
       "4   5    2017  Bangalore  2017-04-08      3      7            3           bat   \n",
       "\n",
       "   result  dl_applied  winner  win_by_runs  win_by_wickets player_of_match  \\\n",
       "0  normal           0      10           35               0    Yuvraj Singh   \n",
       "1  normal           0      11            0               7       SPD Smith   \n",
       "2  normal           0       2            0              10         CA Lynn   \n",
       "3  normal           0       9            0               6      GJ Maxwell   \n",
       "4  normal           0       3           15               0       KM Jadhav   \n",
       "\n",
       "                                       venue         umpire1        umpire2  \\\n",
       "0  Rajiv Gandhi International Stadium, Uppal     AY Dandekar       NJ Llong   \n",
       "1    Maharashtra Cricket Association Stadium  A Nand Kishore         S Ravi   \n",
       "2     Saurashtra Cricket Association Stadium     Nitin Menon      CK Nandan   \n",
       "3                     Holkar Cricket Stadium    AK Chaudhary  C Shamshuddin   \n",
       "4                      M Chinnaswamy Stadium             NaN            NaN   \n",
       "\n",
       "  umpire3  \n",
       "0     NaN  \n",
       "1     NaN  \n",
       "2     NaN  \n",
       "3     NaN  \n",
       "4     NaN  "
      ]
     },
     "execution_count": 18,
     "metadata": {},
     "output_type": "execute_result"
    }
   ],
   "source": [
    "df_matches.head(5)"
   ]
  },
  {
   "cell_type": "markdown",
   "metadata": {},
   "source": [
    "> Print the number of tosses and wins by each team"
   ]
  },
  {
   "cell_type": "code",
   "execution_count": 19,
   "metadata": {
    "_cell_guid": "c6e07308-d14e-48f6-966e-b34a1aa26053",
    "_uuid": "628c0dbd5a657da7f751f9e88dccb2a307102ad0"
   },
   "outputs": [
    {
     "name": "stdout",
     "output_type": "stream",
     "text": [
      "No of toss winners by each team\n",
      "MI -> 98\n",
      "KKR -> 92\n",
      "CSK -> 89\n",
      "KXIP -> 81\n",
      "RCB -> 81\n",
      "DD -> 80\n",
      "RR -> 80\n",
      "SRH -> 46\n",
      "DC -> 43\n",
      "PW -> 20\n",
      "GL -> 15\n",
      "RPS -> 13\n",
      "DLC -> 10\n",
      "KTK -> 8\n",
      "No of match winners by each team\n",
      "MI -> 109\n",
      "CSK -> 100\n",
      "KKR -> 92\n",
      "RCB -> 84\n",
      "KXIP -> 82\n",
      "RR -> 75\n",
      "DD -> 67\n",
      "SRH -> 58\n",
      "DC -> 29\n",
      "RPS -> 15\n",
      "GL -> 13\n",
      "PW -> 12\n",
      "DLC -> 10\n",
      "KTK -> 6\n",
      "Draw -> 4\n"
     ]
    }
   ],
   "source": [
    "#store toss_winner in temp1 in sorted order of their frequencies\n",
    "temp1 = df_matches['toss_winner'].value_counts(sort=True)\n",
    "\n",
    "#store winner in temp2 in sorted order of their freqencies\n",
    "temp2 = df_matches['winner'].value_counts(sort=True)\n",
    "\n",
    "print('No of toss winners by each team')\n",
    "\n",
    "#print frequency of toss win of each team from temp1\n",
    "for idx, val in temp1.iteritems():\n",
    "   print('{} -> {}'.format(list(dicVal.keys())[list(dicVal.values()).index(idx)],val))\n",
    "\n",
    "print('No of match winners by each team')\n",
    "\n",
    "#print frequency of match win of each team from temp2 \n",
    "for idx, val in temp2.iteritems():\n",
    "   print('{} -> {}'.format(list(dicVal.keys())[list(dicVal.values()).index(idx)],val))"
   ]
  },
  {
   "cell_type": "markdown",
   "metadata": {},
   "source": [
    "> Find which team won the most matches using a histogram"
   ]
  },
  {
   "cell_type": "code",
   "execution_count": 20,
   "metadata": {
    "_cell_guid": "65da1127-a7a1-437a-b7c7-c0106c7780a3",
    "_uuid": "104a5b07ffe006951aeda1326c20ea934477cbb7"
   },
   "outputs": [
    {
     "data": {
      "text/plain": [
       "<matplotlib.axes._subplots.AxesSubplot at 0x7f5cc7bafb38>"
      ]
     },
     "execution_count": 20,
     "metadata": {},
     "output_type": "execute_result"
    },
    {
     "data": {
      "image/png": "[encoded data removed]",
      "text/plain": [
       "<Figure size 432x288 with 1 Axes>"
      ]
     },
     "metadata": {
      "needs_background": "light"
     },
     "output_type": "display_data"
    }
   ],
   "source": [
    "#shows that Mumbai won most matches followed by Chennai Super Kings\n",
    "df_matches['winner'].hist(bins=40)\n"
   ]
  },
  {
   "cell_type": "markdown",
   "metadata": {},
   "source": [
    "> Represent the winner teams and toss winner teams using bar graph"
   ]
  },
  {
   "cell_type": "code",
   "execution_count": 21,
   "metadata": {
    "_cell_guid": "2be0656b-0d94-49f5-801f-228f41fab11c",
    "_uuid": "0840fba728809b1387abf191b0652741941b29e6"
   },
   "outputs": [
    {
     "data": {
      "text/plain": [
       "Text(0.5, 1.0, 'Match winners')"
      ]
     },
     "execution_count": 21,
     "metadata": {},
     "output_type": "execute_result"
    },
    {
     "data": {
      "image/png": "[encoded data removed]",
      "text/plain": [
       "<Figure size 576x288 with 2 Axes>"
      ]
     },
     "metadata": {
      "needs_background": "light"
     },
     "output_type": "display_data"
    }
   ],
   "source": [
    "#bar graph for toss winners. count of toss wins Vs Team\n",
    "fig = plt.figure(figsize=(8,4))\n",
    "ax1 = fig.add_subplot(121)\n",
    "ax1.set_xlabel('Team')\n",
    "ax1.set_ylabel('Count of toss wins')\n",
    "ax1.set_title(\"toss winners\")\n",
    "temp1.plot(kind='bar')\n",
    "\n",
    "#bar graph for match winners. count of matches own Vs Team\n",
    "ax2 = fig.add_subplot(122)\n",
    "temp2.plot(kind = 'bar')\n",
    "ax2.set_xlabel('Team')\n",
    "ax2.set_ylabel('count of matches won')\n",
    "ax2.set_title(\"Match winners\")"
   ]
  },
  {
   "cell_type": "markdown",
   "metadata": {},
   "source": [
    "> Verify if any column has any more null values"
   ]
  },
  {
   "cell_type": "code",
   "execution_count": 22,
   "metadata": {
    "_cell_guid": "57b35b58-1b3b-4daa-be57-68bc0a622426",
    "_uuid": "682eba17b4a5cddfe49b4da05161d34b4d36332d"
   },
   "outputs": [
    {
     "data": {
      "text/plain": [
       "id                   0\n",
       "season               0\n",
       "city                 0\n",
       "date                 0\n",
       "team1                0\n",
       "team2                0\n",
       "toss_winner          0\n",
       "toss_decision        0\n",
       "result               0\n",
       "dl_applied           0\n",
       "winner               0\n",
       "win_by_runs          0\n",
       "win_by_wickets       0\n",
       "player_of_match      4\n",
       "venue                0\n",
       "umpire1              2\n",
       "umpire2              2\n",
       "umpire3            637\n",
       "dtype: int64"
      ]
     },
     "execution_count": 22,
     "metadata": {},
     "output_type": "execute_result"
    }
   ],
   "source": [
    "#find the null values in every column\n",
    "df_matches.apply(lambda x: sum(x.isnull()),axis=0)"
   ]
  },
  {
   "cell_type": "markdown",
   "metadata": {},
   "source": [
    ">Find the fraction of non-null values in \"umpire3\" columns"
   ]
  },
  {
   "cell_type": "code",
   "execution_count": 23,
   "metadata": {},
   "outputs": [
    {
     "name": "stdout",
     "output_type": "stream",
     "text": [
      "Fraction of non-null values of umpire3 in the dataset = 0.03306878306878307\n"
     ]
    }
   ],
   "source": [
    "n = (df_matches['umpire3'].nunique()) / df_matches.shape[0]\n",
    "print(\"Fraction of non-null values of umpire3 in the dataset = \" + str(n))"
   ]
  },
  {
   "cell_type": "markdown",
   "metadata": {},
   "source": [
    "> as the fraction of non-null values in \"umpire3\" is very low, we can drop \"umpire3\" assuming it won't greatly affect the machine learning model output further"
   ]
  },
  {
   "cell_type": "code",
   "execution_count": 24,
   "metadata": {},
   "outputs": [],
   "source": [
    "#drop umpire3\n",
    "df_matches = df_matches.drop(columns = ['umpire3'])"
   ]
  },
  {
   "cell_type": "markdown",
   "metadata": {},
   "source": [
    "> Drop \"id\" and \"date\" column as \"id\" is redundant in the context of analytics and \"date\" is assumed to not be a key repeated attribute in the further test set that will be used to measure accuracy"
   ]
  },
  {
   "cell_type": "code",
   "execution_count": 25,
   "metadata": {},
   "outputs": [],
   "source": [
    "#drop id and date\n",
    "df_matches = df_matches.drop(columns = ['id', 'date'])"
   ]
  },
  {
   "cell_type": "markdown",
   "metadata": {},
   "source": [
    "> Find the datatypes of all columns"
   ]
  },
  {
   "cell_type": "code",
   "execution_count": 26,
   "metadata": {},
   "outputs": [
    {
     "data": {
      "text/plain": [
       "season              int64\n",
       "city               object\n",
       "team1               int64\n",
       "team2               int64\n",
       "toss_winner         int64\n",
       "toss_decision      object\n",
       "result             object\n",
       "dl_applied          int64\n",
       "winner              int64\n",
       "win_by_runs         int64\n",
       "win_by_wickets      int64\n",
       "player_of_match    object\n",
       "venue              object\n",
       "umpire1            object\n",
       "umpire2            object\n",
       "dtype: object"
      ]
     },
     "execution_count": 26,
     "metadata": {},
     "output_type": "execute_result"
    }
   ],
   "source": [
    "#datatypes of columns\n",
    "df_matches.dtypes"
   ]
  },
  {
   "cell_type": "markdown",
   "metadata": {},
   "source": [
    "> Datatype of \"object\" type columns "
   ]
  },
  {
   "cell_type": "code",
   "execution_count": 27,
   "metadata": {},
   "outputs": [
    {
     "name": "stdout",
     "output_type": "stream",
     "text": [
      "<class 'pandas.core.series.Series'>\n",
      "<class 'pandas.core.series.Series'>\n",
      "<class 'pandas.core.series.Series'>\n"
     ]
    }
   ],
   "source": [
    "print(type(df_matches['player_of_match']))\n",
    "print(type(df_matches['umpire1']))\n",
    "print(type(df_matches['umpire2']))"
   ]
  },
  {
   "cell_type": "markdown",
   "metadata": {},
   "source": [
    "> Convert series into strings"
   ]
  },
  {
   "cell_type": "code",
   "execution_count": 28,
   "metadata": {},
   "outputs": [],
   "source": [
    "df_matches['player_of_match'] = df_matches['player_of_match'].astype(str)\n",
    "df_matches['umpire1'] = df_matches['umpire1'].astype(str)\n",
    "df_matches['umpire2'] = df_matches['umpire2'].astype(str)"
   ]
  },
  {
   "cell_type": "markdown",
   "metadata": {},
   "source": [
    "> Now that all the columns are either strings, or integers, the strings can be encoded into integers using label encoding"
   ]
  },
  {
   "cell_type": "code",
   "execution_count": 29,
   "metadata": {
    "_cell_guid": "d3f5ba9e-e7c5-4ef0-b2d4-38e5f1d13265",
    "_uuid": "beec98d9a0c04713fa822cb787ad8fe9b4f6ce93"
   },
   "outputs": [
    {
     "data": {
      "text/plain": [
       "season             int64\n",
       "city               int64\n",
       "team1              int64\n",
       "team2              int64\n",
       "toss_winner        int64\n",
       "toss_decision      int64\n",
       "result             int64\n",
       "dl_applied         int64\n",
       "winner             int64\n",
       "win_by_runs        int64\n",
       "win_by_wickets     int64\n",
       "player_of_match    int64\n",
       "venue              int64\n",
       "umpire1            int64\n",
       "umpire2            int64\n",
       "dtype: object"
      ]
     },
     "execution_count": 29,
     "metadata": {},
     "output_type": "execute_result"
    }
   ],
   "source": [
    "#label encode the string columns \n",
    "var_mod = ['city', 'toss_decision', 'result', 'venue', 'player_of_match', 'umpire1', 'umpire2']\n",
    "le = LabelEncoder()\n",
    "for i in var_mod:\n",
    "    df_matches[i] = le.fit_transform(df_matches[i])\n",
    "df_matches.dtypes"
   ]
  },
  {
   "cell_type": "markdown",
   "metadata": {},
   "source": [
    "> Reduce the season value between 0 and 12"
   ]
  },
  {
   "cell_type": "code",
   "execution_count": 30,
   "metadata": {},
   "outputs": [],
   "source": [
    "#reducing season years to integers in range 1 to 12\n",
    "df_matches['season'] = df_matches['season'] - 2007"
   ]
  },
  {
   "cell_type": "code",
   "execution_count": 31,
   "metadata": {},
   "outputs": [
    {
     "data": {
      "text/html": [
       "<div>\n",
       "<style scoped>\n",
       "    .dataframe tbody tr th:only-of-type {\n",
       "        vertical-align: middle;\n",
       "    }\n",
       "\n",
       "    .dataframe tbody tr th {\n",
       "        vertical-align: top;\n",
       "    }\n",
       "\n",
       "    .dataframe thead th {\n",
       "        text-align: right;\n",
       "    }\n",
       "</style>\n",
       "<table border=\"1\" class=\"dataframe\">\n",
       "  <thead>\n",
       "    <tr style=\"text-align: right;\">\n",
       "      <th></th>\n",
       "      <th>season</th>\n",
       "      <th>city</th>\n",
       "      <th>team1</th>\n",
       "      <th>team2</th>\n",
       "      <th>toss_winner</th>\n",
       "      <th>toss_decision</th>\n",
       "      <th>result</th>\n",
       "      <th>dl_applied</th>\n",
       "      <th>winner</th>\n",
       "      <th>win_by_runs</th>\n",
       "      <th>win_by_wickets</th>\n",
       "      <th>player_of_match</th>\n",
       "      <th>venue</th>\n",
       "      <th>umpire1</th>\n",
       "      <th>umpire2</th>\n",
       "    </tr>\n",
       "  </thead>\n",
       "  <tbody>\n",
       "    <tr>\n",
       "      <th>0</th>\n",
       "      <td>10</td>\n",
       "      <td>15</td>\n",
       "      <td>10</td>\n",
       "      <td>3</td>\n",
       "      <td>3</td>\n",
       "      <td>1</td>\n",
       "      <td>1</td>\n",
       "      <td>0</td>\n",
       "      <td>10</td>\n",
       "      <td>35</td>\n",
       "      <td>0</td>\n",
       "      <td>224</td>\n",
       "      <td>28</td>\n",
       "      <td>6</td>\n",
       "      <td>34</td>\n",
       "    </tr>\n",
       "    <tr>\n",
       "      <th>1</th>\n",
       "      <td>10</td>\n",
       "      <td>27</td>\n",
       "      <td>1</td>\n",
       "      <td>11</td>\n",
       "      <td>11</td>\n",
       "      <td>1</td>\n",
       "      <td>1</td>\n",
       "      <td>0</td>\n",
       "      <td>11</td>\n",
       "      <td>0</td>\n",
       "      <td>7</td>\n",
       "      <td>199</td>\n",
       "      <td>21</td>\n",
       "      <td>1</td>\n",
       "      <td>49</td>\n",
       "    </tr>\n",
       "    <tr>\n",
       "      <th>2</th>\n",
       "      <td>10</td>\n",
       "      <td>29</td>\n",
       "      <td>8</td>\n",
       "      <td>2</td>\n",
       "      <td>2</td>\n",
       "      <td>1</td>\n",
       "      <td>1</td>\n",
       "      <td>0</td>\n",
       "      <td>2</td>\n",
       "      <td>0</td>\n",
       "      <td>10</td>\n",
       "      <td>34</td>\n",
       "      <td>31</td>\n",
       "      <td>38</td>\n",
       "      <td>16</td>\n",
       "    </tr>\n",
       "    <tr>\n",
       "      <th>3</th>\n",
       "      <td>10</td>\n",
       "      <td>16</td>\n",
       "      <td>11</td>\n",
       "      <td>9</td>\n",
       "      <td>9</td>\n",
       "      <td>1</td>\n",
       "      <td>1</td>\n",
       "      <td>0</td>\n",
       "      <td>9</td>\n",
       "      <td>0</td>\n",
       "      <td>6</td>\n",
       "      <td>61</td>\n",
       "      <td>13</td>\n",
       "      <td>3</td>\n",
       "      <td>14</td>\n",
       "    </tr>\n",
       "    <tr>\n",
       "      <th>4</th>\n",
       "      <td>10</td>\n",
       "      <td>2</td>\n",
       "      <td>3</td>\n",
       "      <td>7</td>\n",
       "      <td>3</td>\n",
       "      <td>0</td>\n",
       "      <td>1</td>\n",
       "      <td>0</td>\n",
       "      <td>3</td>\n",
       "      <td>15</td>\n",
       "      <td>0</td>\n",
       "      <td>99</td>\n",
       "      <td>17</td>\n",
       "      <td>61</td>\n",
       "      <td>65</td>\n",
       "    </tr>\n",
       "    <tr>\n",
       "      <th>...</th>\n",
       "      <td>...</td>\n",
       "      <td>...</td>\n",
       "      <td>...</td>\n",
       "      <td>...</td>\n",
       "      <td>...</td>\n",
       "      <td>...</td>\n",
       "      <td>...</td>\n",
       "      <td>...</td>\n",
       "      <td>...</td>\n",
       "      <td>...</td>\n",
       "      <td>...</td>\n",
       "      <td>...</td>\n",
       "      <td>...</td>\n",
       "      <td>...</td>\n",
       "      <td>...</td>\n",
       "    </tr>\n",
       "    <tr>\n",
       "      <th>751</th>\n",
       "      <td>12</td>\n",
       "      <td>24</td>\n",
       "      <td>2</td>\n",
       "      <td>1</td>\n",
       "      <td>1</td>\n",
       "      <td>1</td>\n",
       "      <td>1</td>\n",
       "      <td>0</td>\n",
       "      <td>1</td>\n",
       "      <td>0</td>\n",
       "      <td>9</td>\n",
       "      <td>64</td>\n",
       "      <td>40</td>\n",
       "      <td>36</td>\n",
       "      <td>39</td>\n",
       "    </tr>\n",
       "    <tr>\n",
       "      <th>752</th>\n",
       "      <td>12</td>\n",
       "      <td>8</td>\n",
       "      <td>5</td>\n",
       "      <td>1</td>\n",
       "      <td>5</td>\n",
       "      <td>0</td>\n",
       "      <td>1</td>\n",
       "      <td>0</td>\n",
       "      <td>1</td>\n",
       "      <td>0</td>\n",
       "      <td>6</td>\n",
       "      <td>22</td>\n",
       "      <td>18</td>\n",
       "      <td>37</td>\n",
       "      <td>38</td>\n",
       "    </tr>\n",
       "    <tr>\n",
       "      <th>753</th>\n",
       "      <td>12</td>\n",
       "      <td>32</td>\n",
       "      <td>10</td>\n",
       "      <td>14</td>\n",
       "      <td>14</td>\n",
       "      <td>1</td>\n",
       "      <td>1</td>\n",
       "      <td>0</td>\n",
       "      <td>14</td>\n",
       "      <td>0</td>\n",
       "      <td>2</td>\n",
       "      <td>170</td>\n",
       "      <td>0</td>\n",
       "      <td>61</td>\n",
       "      <td>65</td>\n",
       "    </tr>\n",
       "    <tr>\n",
       "      <th>754</th>\n",
       "      <td>12</td>\n",
       "      <td>32</td>\n",
       "      <td>14</td>\n",
       "      <td>5</td>\n",
       "      <td>5</td>\n",
       "      <td>1</td>\n",
       "      <td>1</td>\n",
       "      <td>0</td>\n",
       "      <td>5</td>\n",
       "      <td>0</td>\n",
       "      <td>6</td>\n",
       "      <td>55</td>\n",
       "      <td>0</td>\n",
       "      <td>55</td>\n",
       "      <td>13</td>\n",
       "    </tr>\n",
       "    <tr>\n",
       "      <th>755</th>\n",
       "      <td>12</td>\n",
       "      <td>15</td>\n",
       "      <td>1</td>\n",
       "      <td>5</td>\n",
       "      <td>1</td>\n",
       "      <td>0</td>\n",
       "      <td>1</td>\n",
       "      <td>0</td>\n",
       "      <td>1</td>\n",
       "      <td>1</td>\n",
       "      <td>0</td>\n",
       "      <td>85</td>\n",
       "      <td>29</td>\n",
       "      <td>38</td>\n",
       "      <td>23</td>\n",
       "    </tr>\n",
       "  </tbody>\n",
       "</table>\n",
       "<p>756 rows × 15 columns</p>\n",
       "</div>"
      ],
      "text/plain": [
       "     season  city  team1  team2  toss_winner  toss_decision  result  \\\n",
       "0        10    15     10      3            3              1       1   \n",
       "1        10    27      1     11           11              1       1   \n",
       "2        10    29      8      2            2              1       1   \n",
       "3        10    16     11      9            9              1       1   \n",
       "4        10     2      3      7            3              0       1   \n",
       "..      ...   ...    ...    ...          ...            ...     ...   \n",
       "751      12    24      2      1            1              1       1   \n",
       "752      12     8      5      1            5              0       1   \n",
       "753      12    32     10     14           14              1       1   \n",
       "754      12    32     14      5            5              1       1   \n",
       "755      12    15      1      5            1              0       1   \n",
       "\n",
       "     dl_applied  winner  win_by_runs  win_by_wickets  player_of_match  venue  \\\n",
       "0             0      10           35               0              224     28   \n",
       "1             0      11            0               7              199     21   \n",
       "2             0       2            0              10               34     31   \n",
       "3             0       9            0               6               61     13   \n",
       "4             0       3           15               0               99     17   \n",
       "..          ...     ...          ...             ...              ...    ...   \n",
       "751           0       1            0               9               64     40   \n",
       "752           0       1            0               6               22     18   \n",
       "753           0      14            0               2              170      0   \n",
       "754           0       5            0               6               55      0   \n",
       "755           0       1            1               0               85     29   \n",
       "\n",
       "     umpire1  umpire2  \n",
       "0          6       34  \n",
       "1          1       49  \n",
       "2         38       16  \n",
       "3          3       14  \n",
       "4         61       65  \n",
       "..       ...      ...  \n",
       "751       36       39  \n",
       "752       37       38  \n",
       "753       61       65  \n",
       "754       55       13  \n",
       "755       38       23  \n",
       "\n",
       "[756 rows x 15 columns]"
      ]
     },
     "execution_count": 31,
     "metadata": {},
     "output_type": "execute_result"
    }
   ],
   "source": [
    "df_matches"
   ]
  },
  {
   "cell_type": "markdown",
   "metadata": {},
   "source": [
    "> Separate dependant and independant columns"
   ]
  },
  {
   "cell_type": "code",
   "execution_count": 32,
   "metadata": {
    "_cell_guid": "534e353c-240d-44b9-a580-fa059e6e2827",
    "_uuid": "8613122d2ed389eae87f248de0dfebc487293590"
   },
   "outputs": [
    {
     "name": "stdout",
     "output_type": "stream",
     "text": [
      "RangeIndex(start=0, stop=756, step=1)\n",
      "RangeIndex(start=0, stop=756, step=1)\n"
     ]
    }
   ],
   "source": [
    "#X -> independant columns\n",
    "#y -> dependant columns, i.e., \"winner\"\n",
    "\n",
    "X = df_matches.drop(columns = ['winner'])\n",
    "print(X.index)\n",
    "y = df_matches['winner']\n",
    "print(y.index)\n"
   ]
  },
  {
   "cell_type": "markdown",
   "metadata": {},
   "source": [
    "> Split X and y into train and test sets"
   ]
  },
  {
   "cell_type": "code",
   "execution_count": 33,
   "metadata": {},
   "outputs": [],
   "source": [
    "X_train, X_test, y_train, y_test = train_test_split(X, y, test_size = 0.3, random_state = 42)"
   ]
  },
  {
   "cell_type": "markdown",
   "metadata": {},
   "source": [
    "> Reindex the train, test distributions"
   ]
  },
  {
   "cell_type": "code",
   "execution_count": 34,
   "metadata": {},
   "outputs": [],
   "source": [
    "X_train = X_train.reindex()\n",
    "X_test = X_test.reindex()\n",
    "y_train = y_train.reindex()\n",
    "y_test = y_test.reindex()"
   ]
  },
  {
   "cell_type": "markdown",
   "metadata": {},
   "source": [
    "> Print the reindexed indices for the train, test distributions"
   ]
  },
  {
   "cell_type": "code",
   "execution_count": 35,
   "metadata": {},
   "outputs": [
    {
     "name": "stdout",
     "output_type": "stream",
     "text": [
      "X_train index : Int64Index([182, 575, 399, 583, 223, 375, 733, 713, 382, 601,\n",
      "            ...\n",
      "            466, 121, 614,  20, 700,  71, 106, 270, 435, 102],\n",
      "           dtype='int64', length=529)\n",
      "X_test index : Int64Index([408,  97, 424, 584, 603,  78,  54, 109, 323, 499,\n",
      "            ...\n",
      "             83,  61, 338, 451,  29, 595, 239, 250, 538, 494],\n",
      "           dtype='int64', length=227)\n",
      "y_train index : Int64Index([182, 575, 399, 583, 223, 375, 733, 713, 382, 601,\n",
      "            ...\n",
      "            466, 121, 614,  20, 700,  71, 106, 270, 435, 102],\n",
      "           dtype='int64', length=529)\n",
      "y_test index : Int64Index([408,  97, 424, 584, 603,  78,  54, 109, 323, 499,\n",
      "            ...\n",
      "             83,  61, 338, 451,  29, 595, 239, 250, 538, 494],\n",
      "           dtype='int64', length=227)\n"
     ]
    }
   ],
   "source": [
    "print(\"X_train index : \" + str(X_train.index))\n",
    "print(\"X_test index : \" + str(X_test.index))\n",
    "print(\"y_train index : \" + str(y_train.index))\n",
    "print(\"y_test index : \" + str(y_test.index))"
   ]
  },
  {
   "cell_type": "markdown",
   "metadata": {},
   "source": [
    "# Build Decision Tree Classifier with default hyperparameter values"
   ]
  },
  {
   "cell_type": "markdown",
   "metadata": {},
   "source": [
    "> Build tree"
   ]
  },
  {
   "cell_type": "code",
   "execution_count": 36,
   "metadata": {},
   "outputs": [],
   "source": [
    "t = tree.DecisionTreeClassifier()"
   ]
  },
  {
   "cell_type": "markdown",
   "metadata": {},
   "source": [
    "> Fit tree to train distribution of data"
   ]
  },
  {
   "cell_type": "code",
   "execution_count": 37,
   "metadata": {},
   "outputs": [
    {
     "data": {
      "text/plain": [
       "DecisionTreeClassifier(ccp_alpha=0.0, class_weight=None, criterion='gini',\n",
       "                       max_depth=None, max_features=None, max_leaf_nodes=None,\n",
       "                       min_impurity_decrease=0.0, min_impurity_split=None,\n",
       "                       min_samples_leaf=1, min_samples_split=2,\n",
       "                       min_weight_fraction_leaf=0.0, presort='deprecated',\n",
       "                       random_state=None, splitter='best')"
      ]
     },
     "execution_count": 37,
     "metadata": {},
     "output_type": "execute_result"
    }
   ],
   "source": [
    "t.fit(X_train, y_train)"
   ]
  },
  {
   "cell_type": "markdown",
   "metadata": {},
   "source": [
    "> Predict on test distribution of data"
   ]
  },
  {
   "cell_type": "code",
   "execution_count": 38,
   "metadata": {},
   "outputs": [],
   "source": [
    "y_pred = t.predict(X_test)"
   ]
  },
  {
   "cell_type": "markdown",
   "metadata": {},
   "source": [
    "> Print train and test accuracies"
   ]
  },
  {
   "cell_type": "code",
   "execution_count": 39,
   "metadata": {},
   "outputs": [
    {
     "name": "stdout",
     "output_type": "stream",
     "text": [
      "Train Accuracy =  1.0\n",
      "Train Accuracy =  0.7665198237885462\n"
     ]
    }
   ],
   "source": [
    "print('Train Accuracy = ', accuracy_score(y_train, t.predict(X_train)))\n",
    "print('Train Accuracy = ', accuracy_score(y_test, t.predict(X_test)))"
   ]
  },
  {
   "cell_type": "markdown",
   "metadata": {},
   "source": [
    "# Build Random Forest Classifier with default hyperparameter values"
   ]
  },
  {
   "cell_type": "markdown",
   "metadata": {},
   "source": [
    "> Build classifier"
   ]
  },
  {
   "cell_type": "code",
   "execution_count": 40,
   "metadata": {},
   "outputs": [],
   "source": [
    "#build rfc model\n",
    "clf = rfc(n_estimators = 10)"
   ]
  },
  {
   "cell_type": "markdown",
   "metadata": {},
   "source": [
    "> Fit model to train distribution of data"
   ]
  },
  {
   "cell_type": "code",
   "execution_count": 41,
   "metadata": {},
   "outputs": [
    {
     "data": {
      "text/plain": [
       "RandomForestClassifier(bootstrap=True, ccp_alpha=0.0, class_weight=None,\n",
       "                       criterion='gini', max_depth=None, max_features='auto',\n",
       "                       max_leaf_nodes=None, max_samples=None,\n",
       "                       min_impurity_decrease=0.0, min_impurity_split=None,\n",
       "                       min_samples_leaf=1, min_samples_split=2,\n",
       "                       min_weight_fraction_leaf=0.0, n_estimators=10,\n",
       "                       n_jobs=None, oob_score=False, random_state=None,\n",
       "                       verbose=0, warm_start=False)"
      ]
     },
     "execution_count": 41,
     "metadata": {},
     "output_type": "execute_result"
    }
   ],
   "source": [
    "clf.fit(X_train, y_train)"
   ]
  },
  {
   "cell_type": "markdown",
   "metadata": {},
   "source": [
    "> Predict on test distribution"
   ]
  },
  {
   "cell_type": "code",
   "execution_count": 42,
   "metadata": {},
   "outputs": [],
   "source": [
    "y_pred = clf.predict(X_test)"
   ]
  },
  {
   "cell_type": "markdown",
   "metadata": {},
   "source": [
    "> Print train and test accuracies"
   ]
  },
  {
   "cell_type": "code",
   "execution_count": 43,
   "metadata": {},
   "outputs": [
    {
     "name": "stdout",
     "output_type": "stream",
     "text": [
      "Train Accuracy =  0.998109640831758\n",
      "Test Accuracy =  0.6696035242290749\n"
     ]
    }
   ],
   "source": [
    "print('Train Accuracy = ', accuracy_score(y_train, clf.predict(X_train)))\n",
    "print('Test Accuracy = ', accuracy_score(y_test, y_pred))"
   ]
  },
  {
   "cell_type": "markdown",
   "metadata": {},
   "source": [
    "# Build XGBClassifier Model with default hyperparameter values"
   ]
  },
  {
   "cell_type": "markdown",
   "metadata": {},
   "source": [
    ">Build model and evaluate error"
   ]
  },
  {
   "cell_type": "code",
   "execution_count": 44,
   "metadata": {},
   "outputs": [
    {
     "name": "stdout",
     "output_type": "stream",
     "text": [
      "[0]\tvalidation_0-merror:0.08696\tvalidation_1-merror:0.21145\n",
      "[1]\tvalidation_0-merror:0.04915\tvalidation_1-merror:0.20705\n",
      "[2]\tvalidation_0-merror:0.04537\tvalidation_1-merror:0.18502\n",
      "[3]\tvalidation_0-merror:0.02079\tvalidation_1-merror:0.18062\n",
      "[4]\tvalidation_0-merror:0.01323\tvalidation_1-merror:0.15859\n",
      "[5]\tvalidation_0-merror:0.00945\tvalidation_1-merror:0.16300\n",
      "[6]\tvalidation_0-merror:0.00567\tvalidation_1-merror:0.15418\n",
      "[7]\tvalidation_0-merror:0.00189\tvalidation_1-merror:0.13656\n",
      "[8]\tvalidation_0-merror:0.00189\tvalidation_1-merror:0.13656\n",
      "[9]\tvalidation_0-merror:0.00189\tvalidation_1-merror:0.13656\n",
      "[10]\tvalidation_0-merror:0.00189\tvalidation_1-merror:0.11454\n",
      "[11]\tvalidation_0-merror:0.00189\tvalidation_1-merror:0.10573\n",
      "[12]\tvalidation_0-merror:0.00189\tvalidation_1-merror:0.11013\n",
      "[13]\tvalidation_0-merror:0.00000\tvalidation_1-merror:0.11013\n",
      "[14]\tvalidation_0-merror:0.00000\tvalidation_1-merror:0.09692\n",
      "[15]\tvalidation_0-merror:0.00000\tvalidation_1-merror:0.09251\n",
      "[16]\tvalidation_0-merror:0.00000\tvalidation_1-merror:0.09251\n",
      "[17]\tvalidation_0-merror:0.00000\tvalidation_1-merror:0.09251\n",
      "[18]\tvalidation_0-merror:0.00000\tvalidation_1-merror:0.09692\n",
      "[19]\tvalidation_0-merror:0.00000\tvalidation_1-merror:0.09251\n",
      "[20]\tvalidation_0-merror:0.00000\tvalidation_1-merror:0.09251\n",
      "[21]\tvalidation_0-merror:0.00000\tvalidation_1-merror:0.09251\n",
      "[22]\tvalidation_0-merror:0.00000\tvalidation_1-merror:0.09251\n",
      "[23]\tvalidation_0-merror:0.00000\tvalidation_1-merror:0.09251\n",
      "[24]\tvalidation_0-merror:0.00000\tvalidation_1-merror:0.09251\n",
      "[25]\tvalidation_0-merror:0.00000\tvalidation_1-merror:0.09251\n",
      "[26]\tvalidation_0-merror:0.00000\tvalidation_1-merror:0.09251\n",
      "[27]\tvalidation_0-merror:0.00000\tvalidation_1-merror:0.09251\n",
      "[28]\tvalidation_0-merror:0.00000\tvalidation_1-merror:0.09251\n",
      "[29]\tvalidation_0-merror:0.00000\tvalidation_1-merror:0.09251\n",
      "[30]\tvalidation_0-merror:0.00000\tvalidation_1-merror:0.09251\n",
      "[31]\tvalidation_0-merror:0.00000\tvalidation_1-merror:0.09251\n",
      "[32]\tvalidation_0-merror:0.00000\tvalidation_1-merror:0.09251\n",
      "[33]\tvalidation_0-merror:0.00000\tvalidation_1-merror:0.09251\n",
      "[34]\tvalidation_0-merror:0.00000\tvalidation_1-merror:0.09251\n",
      "[35]\tvalidation_0-merror:0.00000\tvalidation_1-merror:0.09251\n",
      "[36]\tvalidation_0-merror:0.00000\tvalidation_1-merror:0.09251\n",
      "[37]\tvalidation_0-merror:0.00000\tvalidation_1-merror:0.08811\n",
      "[38]\tvalidation_0-merror:0.00000\tvalidation_1-merror:0.09251\n",
      "[39]\tvalidation_0-merror:0.00000\tvalidation_1-merror:0.08811\n",
      "[40]\tvalidation_0-merror:0.00000\tvalidation_1-merror:0.08811\n",
      "[41]\tvalidation_0-merror:0.00000\tvalidation_1-merror:0.08811\n",
      "[42]\tvalidation_0-merror:0.00000\tvalidation_1-merror:0.08811\n",
      "[43]\tvalidation_0-merror:0.00000\tvalidation_1-merror:0.08811\n",
      "[44]\tvalidation_0-merror:0.00000\tvalidation_1-merror:0.09251\n",
      "[45]\tvalidation_0-merror:0.00000\tvalidation_1-merror:0.09251\n",
      "[46]\tvalidation_0-merror:0.00000\tvalidation_1-merror:0.09251\n",
      "[47]\tvalidation_0-merror:0.00000\tvalidation_1-merror:0.09251\n",
      "[48]\tvalidation_0-merror:0.00000\tvalidation_1-merror:0.09251\n",
      "[49]\tvalidation_0-merror:0.00000\tvalidation_1-merror:0.09251\n",
      "[50]\tvalidation_0-merror:0.00000\tvalidation_1-merror:0.09251\n",
      "[51]\tvalidation_0-merror:0.00000\tvalidation_1-merror:0.08811\n",
      "[52]\tvalidation_0-merror:0.00000\tvalidation_1-merror:0.09251\n",
      "[53]\tvalidation_0-merror:0.00000\tvalidation_1-merror:0.08811\n",
      "[54]\tvalidation_0-merror:0.00000\tvalidation_1-merror:0.08811\n",
      "[55]\tvalidation_0-merror:0.00000\tvalidation_1-merror:0.08811\n",
      "[56]\tvalidation_0-merror:0.00000\tvalidation_1-merror:0.08811\n",
      "[57]\tvalidation_0-merror:0.00000\tvalidation_1-merror:0.08811\n",
      "[58]\tvalidation_0-merror:0.00000\tvalidation_1-merror:0.08811\n",
      "[59]\tvalidation_0-merror:0.00000\tvalidation_1-merror:0.08811\n",
      "[60]\tvalidation_0-merror:0.00000\tvalidation_1-merror:0.08811\n",
      "[61]\tvalidation_0-merror:0.00000\tvalidation_1-merror:0.08811\n",
      "[62]\tvalidation_0-merror:0.00000\tvalidation_1-merror:0.08811\n",
      "[63]\tvalidation_0-merror:0.00000\tvalidation_1-merror:0.08811\n",
      "[64]\tvalidation_0-merror:0.00000\tvalidation_1-merror:0.08811\n",
      "[65]\tvalidation_0-merror:0.00000\tvalidation_1-merror:0.08811\n",
      "[66]\tvalidation_0-merror:0.00000\tvalidation_1-merror:0.08811\n",
      "[67]\tvalidation_0-merror:0.00000\tvalidation_1-merror:0.08811\n",
      "[68]\tvalidation_0-merror:0.00000\tvalidation_1-merror:0.08811\n",
      "[69]\tvalidation_0-merror:0.00000\tvalidation_1-merror:0.08811\n",
      "[70]\tvalidation_0-merror:0.00000\tvalidation_1-merror:0.08811\n",
      "[71]\tvalidation_0-merror:0.00000\tvalidation_1-merror:0.08811\n",
      "[72]\tvalidation_0-merror:0.00000\tvalidation_1-merror:0.08811\n",
      "[73]\tvalidation_0-merror:0.00000\tvalidation_1-merror:0.08811\n",
      "[74]\tvalidation_0-merror:0.00000\tvalidation_1-merror:0.08811\n",
      "[75]\tvalidation_0-merror:0.00000\tvalidation_1-merror:0.08811\n",
      "[76]\tvalidation_0-merror:0.00000\tvalidation_1-merror:0.08811\n",
      "[77]\tvalidation_0-merror:0.00000\tvalidation_1-merror:0.08811\n",
      "[78]\tvalidation_0-merror:0.00000\tvalidation_1-merror:0.08811\n",
      "[79]\tvalidation_0-merror:0.00000\tvalidation_1-merror:0.08811\n",
      "[80]\tvalidation_0-merror:0.00000\tvalidation_1-merror:0.08811\n",
      "[81]\tvalidation_0-merror:0.00000\tvalidation_1-merror:0.08811\n",
      "[82]\tvalidation_0-merror:0.00000\tvalidation_1-merror:0.08811\n",
      "[83]\tvalidation_0-merror:0.00000\tvalidation_1-merror:0.08811\n",
      "[84]\tvalidation_0-merror:0.00000\tvalidation_1-merror:0.08811\n",
      "[85]\tvalidation_0-merror:0.00000\tvalidation_1-merror:0.08811\n",
      "[86]\tvalidation_0-merror:0.00000\tvalidation_1-merror:0.08811\n",
      "[87]\tvalidation_0-merror:0.00000\tvalidation_1-merror:0.08811\n",
      "[88]\tvalidation_0-merror:0.00000\tvalidation_1-merror:0.08811\n",
      "[89]\tvalidation_0-merror:0.00000\tvalidation_1-merror:0.08811\n",
      "[90]\tvalidation_0-merror:0.00000\tvalidation_1-merror:0.08811\n",
      "[91]\tvalidation_0-merror:0.00000\tvalidation_1-merror:0.08811\n",
      "[92]\tvalidation_0-merror:0.00000\tvalidation_1-merror:0.08811\n",
      "[93]\tvalidation_0-merror:0.00000\tvalidation_1-merror:0.08811\n",
      "[94]\tvalidation_0-merror:0.00000\tvalidation_1-merror:0.08811\n",
      "[95]\tvalidation_0-merror:0.00000\tvalidation_1-merror:0.08811\n",
      "[96]\tvalidation_0-merror:0.00000\tvalidation_1-merror:0.08811\n",
      "[97]\tvalidation_0-merror:0.00000\tvalidation_1-merror:0.08811\n",
      "[98]\tvalidation_0-merror:0.00000\tvalidation_1-merror:0.08811\n",
      "[99]\tvalidation_0-merror:0.00000\tvalidation_1-merror:0.08811\n"
     ]
    },
    {
     "data": {
      "text/plain": [
       "XGBClassifier(base_score=0.5, booster=None, colsample_bylevel=1,\n",
       "              colsample_bynode=1, colsample_bytree=1, gamma=0, gpu_id=-1,\n",
       "              importance_type='gain', interaction_constraints=None,\n",
       "              learning_rate=0.300000012, max_delta_step=0, max_depth=6,\n",
       "              min_child_weight=1, missing=nan, monotone_constraints=None,\n",
       "              n_estimators=100, n_jobs=0, num_parallel_tree=1,\n",
       "              objective='multi:softprob', random_state=0, reg_alpha=0,\n",
       "              reg_lambda=1, scale_pos_weight=None, subsample=1,\n",
       "              tree_method=None, validate_parameters=False, verbosity=None)"
      ]
     },
     "execution_count": 44,
     "metadata": {},
     "output_type": "execute_result"
    }
   ],
   "source": [
    "#fir model on training data with default parameter values\n",
    "ev_set = [(X_train, y_train), (X_test, y_test)]\n",
    "clf = xgb.XGBClassifier()\n",
    "clf.fit(X_train, y_train, eval_metric = 'merror', verbose = True, eval_set = ev_set)"
   ]
  },
  {
   "cell_type": "markdown",
   "metadata": {},
   "source": [
    "> Predict for test data distribution"
   ]
  },
  {
   "cell_type": "code",
   "execution_count": 45,
   "metadata": {},
   "outputs": [],
   "source": [
    "y_pred = clf.predict(X_test)\n",
    "predictions = [round(value) for value in y_pred]"
   ]
  },
  {
   "cell_type": "markdown",
   "metadata": {},
   "source": [
    "> Calculate Test accuracy"
   ]
  },
  {
   "cell_type": "code",
   "execution_count": 46,
   "metadata": {},
   "outputs": [
    {
     "name": "stdout",
     "output_type": "stream",
     "text": [
      "Train Accuracy = 100.00\n",
      "Test Accuracy: 91.19\n"
     ]
    },
    {
     "data": {
      "text/plain": [
       "<matplotlib.axes._subplots.AxesSubplot at 0x7f5cc78db2b0>"
      ]
     },
     "execution_count": 46,
     "metadata": {},
     "output_type": "execute_result"
    },
    {
     "data": {
      "image/png": "[encoded data removed]",
      "text/plain": [
       "<Figure size 432x288 with 1 Axes>"
      ]
     },
     "metadata": {
      "needs_background": "light"
     },
     "output_type": "display_data"
    }
   ],
   "source": [
    "# evaluate predictions\n",
    "accuracy = accuracy_score(y_test, predictions)\n",
    "\n",
    "#print features according to importances\n",
    "print(\"Train Accuracy = %.2f\" % (accuracy_score(y_train, clf.predict(X_train)) * 100))\n",
    "print(\"Test Accuracy: %.2f\" % (accuracy * 100.0))\n",
    "xgb.plot_importance(clf)"
   ]
  },
  {
   "cell_type": "markdown",
   "metadata": {},
   "source": [
    "# Build XGBClassifier Model and Tune using hit-and-trial"
   ]
  },
  {
   "cell_type": "code",
   "execution_count": 47,
   "metadata": {},
   "outputs": [],
   "source": [
    "#drop \"umpire1', \"umpire2\", \"toss_decision\", \"result\", \"venue\", \"toss_winner\", \"city\", \"dl_applied\", \"season\"\n",
    "X_train = X_train.drop(columns = ['umpire1', 'umpire2', 'toss_decision', 'result', 'venue', 'toss_winner', 'city', 'dl_applied', 'season'])\n",
    "X_test = X_test.drop(columns = ['umpire1', 'umpire2', 'toss_decision', 'result', 'venue', 'toss_winner', 'city', 'dl_applied', 'season'])"
   ]
  },
  {
   "cell_type": "markdown",
   "metadata": {},
   "source": [
    "> Build and fit model on training data distribution"
   ]
  },
  {
   "cell_type": "code",
   "execution_count": 48,
   "metadata": {},
   "outputs": [
    {
     "name": "stdout",
     "output_type": "stream",
     "text": [
      "[0]\tvalidation_0-merror:0.04537\tvalidation_1-merror:0.10132\n",
      "[1]\tvalidation_0-merror:0.03025\tvalidation_1-merror:0.08811\n",
      "[2]\tvalidation_0-merror:0.01890\tvalidation_1-merror:0.07049\n",
      "[3]\tvalidation_0-merror:0.00945\tvalidation_1-merror:0.06167\n",
      "[4]\tvalidation_0-merror:0.00945\tvalidation_1-merror:0.06167\n",
      "[5]\tvalidation_0-merror:0.00756\tvalidation_1-merror:0.04846\n",
      "[6]\tvalidation_0-merror:0.00378\tvalidation_1-merror:0.04405\n",
      "[7]\tvalidation_0-merror:0.00378\tvalidation_1-merror:0.04405\n",
      "[8]\tvalidation_0-merror:0.00189\tvalidation_1-merror:0.03965\n",
      "[9]\tvalidation_0-merror:0.00189\tvalidation_1-merror:0.03965\n",
      "[10]\tvalidation_0-merror:0.00189\tvalidation_1-merror:0.03965\n",
      "[11]\tvalidation_0-merror:0.00189\tvalidation_1-merror:0.03965\n",
      "[12]\tvalidation_0-merror:0.00189\tvalidation_1-merror:0.04405\n",
      "[13]\tvalidation_0-merror:0.00000\tvalidation_1-merror:0.04405\n",
      "[14]\tvalidation_0-merror:0.00000\tvalidation_1-merror:0.04405\n",
      "[15]\tvalidation_0-merror:0.00000\tvalidation_1-merror:0.04405\n",
      "[16]\tvalidation_0-merror:0.00000\tvalidation_1-merror:0.03965\n",
      "[17]\tvalidation_0-merror:0.00000\tvalidation_1-merror:0.03965\n",
      "[18]\tvalidation_0-merror:0.00000\tvalidation_1-merror:0.03965\n",
      "[19]\tvalidation_0-merror:0.00000\tvalidation_1-merror:0.04405\n"
     ]
    },
    {
     "data": {
      "text/plain": [
       "XGBClassifier(base_score=0.5, booster=None, colsample_bylevel=1,\n",
       "              colsample_bynode=1, colsample_bytree=1, eval_metric='error',\n",
       "              gamma=0, gpu_id=-1, importance_type='gain',\n",
       "              interaction_constraints=None, learning_rate=0.36,\n",
       "              max_delta_step=0, max_depth=10, min_child_weight=1, missing=nan,\n",
       "              monotone_constraints=None, n_estimators=20, n_jobs=-1,\n",
       "              num_parallel_tree=1, objective='multi:softprob', random_state=0,\n",
       "              reg_alpha=0, reg_lambda=1, scale_pos_weight=None, subsample=1,\n",
       "              tree_method=None, validate_parameters=False, verbosity=None)"
      ]
     },
     "execution_count": 48,
     "metadata": {},
     "output_type": "execute_result"
    }
   ],
   "source": [
    "# fit model on training data\n",
    "ev_set = [(X_train, y_train), (X_test, y_test)]\n",
    "model = xgb.XGBClassifier(learning_rate = 0.36, max_depth = 10, min_child_weight = 1, n_estimators = 20, random_state = 0, n_jobs = -1, eval_metric = 'error')\n",
    "model.fit(X_train, y_train, eval_set = ev_set, eval_metric = 'merror', verbose = True)"
   ]
  },
  {
   "cell_type": "markdown",
   "metadata": {},
   "source": [
    "> Make precitions of model on test set"
   ]
  },
  {
   "cell_type": "code",
   "execution_count": 49,
   "metadata": {},
   "outputs": [],
   "source": [
    "# make predictions for test data\n",
    "y_pred = model.predict(X_test)\n",
    "predictions = [round(value) for value in y_pred]"
   ]
  },
  {
   "cell_type": "markdown",
   "metadata": {},
   "source": [
    "> Evaluate accuracy score by comparing test and predicted values"
   ]
  },
  {
   "cell_type": "code",
   "execution_count": 50,
   "metadata": {},
   "outputs": [
    {
     "name": "stdout",
     "output_type": "stream",
     "text": [
      "Test Accuracy = 1.00\n",
      "Test Accuracy = 95.59\n"
     ]
    },
    {
     "data": {
      "text/plain": [
       "<matplotlib.axes._subplots.AxesSubplot at 0x7f5cc044c9e8>"
      ]
     },
     "execution_count": 50,
     "metadata": {},
     "output_type": "execute_result"
    },
    {
     "data": {
      "image/png": "[encoded data removed]",
      "text/plain": [
       "<Figure size 432x288 with 1 Axes>"
      ]
     },
     "metadata": {
      "needs_background": "light"
     },
     "output_type": "display_data"
    }
   ],
   "source": [
    "# evaluate predictions\n",
    "accuracy = accuracy_score(y_test, predictions)\n",
    "print(\"Test Accuracy = %.2f\" % (accuracy_score(y_train, model.predict(X_train))))\n",
    "print(\"Test Accuracy = %.2f\" % (accuracy * 100.0))\n",
    "xgb.plot_importance(model)"
   ]
  },
  {
   "cell_type": "markdown",
   "metadata": {},
   "source": [
    "# Tune Hyperparameters for XGBClassifier using GridSearchCV"
   ]
  },
  {
   "cell_type": "markdown",
   "metadata": {},
   "source": [
    "> Search hyperparameter values"
   ]
  },
  {
   "cell_type": "code",
   "execution_count": 51,
   "metadata": {},
   "outputs": [
    {
     "data": {
      "text/plain": [
       "GridSearchCV(cv=3, error_score=nan,\n",
       "             estimator=XGBClassifier(base_score=None, booster=None,\n",
       "                                     colsample_bylevel=None,\n",
       "                                     colsample_bynode=None,\n",
       "                                     colsample_bytree=None, gamma=None,\n",
       "                                     gpu_id=None, importance_type='gain',\n",
       "                                     interaction_constraints=None,\n",
       "                                     learning_rate=None, max_delta_step=None,\n",
       "                                     max_depth=None, min_child_weight=None,\n",
       "                                     missing=nan, monotone_constraints=None,\n",
       "                                     n_estim...\n",
       "                                     reg_lambda=None, scale_pos_weight=None,\n",
       "                                     subsample=None, tree_method=None,\n",
       "                                     validate_parameters=False,\n",
       "                                     verbosity=None),\n",
       "             iid='deprecated', n_jobs=None,\n",
       "             param_grid={'learning_rate': [0.36, 0.38, 0.4, 0.5, 1],\n",
       "                         'max_depth': [10, 15, 20, 25], 'min_child_weight': [1],\n",
       "                         'n_estimators': [20, 30, 100], 'n_jobs': [-1]},\n",
       "             pre_dispatch='2*n_jobs', refit=True, return_train_score=False,\n",
       "             scoring=None, verbose=0)"
      ]
     },
     "execution_count": 51,
     "metadata": {},
     "output_type": "execute_result"
    }
   ],
   "source": [
    "#make a dictionary of parameters and their values to tested\n",
    "#92.43\n",
    "param_grid = {'max_depth': [10, 15, 20, 25], \n",
    "              'n_estimators': [20, 30, 100], \n",
    "              'learning_rate': [0.36, 0.38, 0.4, 0.5, 1],\n",
    "              'min_child_weight':[1],\n",
    "              'n_jobs':[-1]\n",
    "             }\n",
    "\n",
    "#build xgbClassifier\n",
    "clf = xgb.XGBClassifier()\n",
    "\n",
    "#pass the model to gridsearch to search for parameters\n",
    "grid_search = GridSearchCV(clf, param_grid, cv = 3, refit = True)\n",
    "\n",
    "#fit the train data to gridsearch object \n",
    "grid_search.fit(X_train, y_train)"
   ]
  },
  {
   "cell_type": "markdown",
   "metadata": {},
   "source": [
    "> Print the best parameters and best score corresponding to the best parameters"
   ]
  },
  {
   "cell_type": "code",
   "execution_count": 52,
   "metadata": {},
   "outputs": [
    {
     "name": "stdout",
     "output_type": "stream",
     "text": [
      "Best parameters: {'learning_rate': 0.4, 'max_depth': 10, 'min_child_weight': 1, 'n_estimators': 20, 'n_jobs': -1}\n",
      "Best estimator: XGBClassifier(base_score=0.5, booster=None, colsample_bylevel=1,\n",
      "              colsample_bynode=1, colsample_bytree=1, gamma=0, gpu_id=-1,\n",
      "              importance_type='gain', interaction_constraints=None,\n",
      "              learning_rate=0.4, max_delta_step=0, max_depth=10,\n",
      "              min_child_weight=1, missing=nan, monotone_constraints=None,\n",
      "              n_estimators=20, n_jobs=-1, num_parallel_tree=1,\n",
      "              objective='multi:softprob', random_state=0, reg_alpha=0,\n",
      "              reg_lambda=1, scale_pos_weight=None, subsample=1,\n",
      "              tree_method=None, validate_parameters=False, verbosity=None)\n",
      "Best score: 0.9432781201849\n"
     ]
    }
   ],
   "source": [
    "print ('Best parameters:', grid_search.best_params_)\n",
    "print ('Best estimator:', grid_search.best_estimator_)\n",
    "print ('Best score:', grid_search.best_score_)"
   ]
  },
  {
   "cell_type": "markdown",
   "metadata": {},
   "source": [
    "> Build the model again using the hyperparameter values obtained in the search"
   ]
  },
  {
   "cell_type": "code",
   "execution_count": 53,
   "metadata": {},
   "outputs": [
    {
     "name": "stdout",
     "output_type": "stream",
     "text": [
      "[0]\tvalidation_0-merror:0.04537\tvalidation_1-merror:0.10132\n",
      "[1]\tvalidation_0-merror:0.02836\tvalidation_1-merror:0.08811\n",
      "[2]\tvalidation_0-merror:0.01890\tvalidation_1-merror:0.07049\n",
      "[3]\tvalidation_0-merror:0.01323\tvalidation_1-merror:0.06167\n",
      "[4]\tvalidation_0-merror:0.00945\tvalidation_1-merror:0.04846\n",
      "[5]\tvalidation_0-merror:0.00756\tvalidation_1-merror:0.04405\n",
      "[6]\tvalidation_0-merror:0.00189\tvalidation_1-merror:0.03965\n",
      "[7]\tvalidation_0-merror:0.00189\tvalidation_1-merror:0.03965\n",
      "[8]\tvalidation_0-merror:0.00189\tvalidation_1-merror:0.03965\n",
      "[9]\tvalidation_0-merror:0.00189\tvalidation_1-merror:0.03965\n",
      "[10]\tvalidation_0-merror:0.00189\tvalidation_1-merror:0.03965\n",
      "[11]\tvalidation_0-merror:0.00000\tvalidation_1-merror:0.03965\n",
      "[12]\tvalidation_0-merror:0.00000\tvalidation_1-merror:0.03965\n",
      "[13]\tvalidation_0-merror:0.00000\tvalidation_1-merror:0.03965\n",
      "[14]\tvalidation_0-merror:0.00000\tvalidation_1-merror:0.03965\n",
      "[15]\tvalidation_0-merror:0.00000\tvalidation_1-merror:0.03965\n",
      "[16]\tvalidation_0-merror:0.00000\tvalidation_1-merror:0.03965\n",
      "[17]\tvalidation_0-merror:0.00000\tvalidation_1-merror:0.03965\n",
      "[18]\tvalidation_0-merror:0.00000\tvalidation_1-merror:0.03965\n",
      "[19]\tvalidation_0-merror:0.00000\tvalidation_1-merror:0.03965\n"
     ]
    },
    {
     "data": {
      "text/plain": [
       "XGBClassifier(base_score=0.5, booster=None, colsample_bylevel=1,\n",
       "              colsample_bynode=1, colsample_bytree=1, gamma=0, gpu_id=-1,\n",
       "              importance_type='gain', interaction_constraints=None,\n",
       "              learning_rate=0.4, max_delta_step=0, max_depth=10,\n",
       "              min_child_weight=1, missing=nan, monotone_constraints=None,\n",
       "              n_estimators=20, n_jobs=-1, num_parallel_tree=1,\n",
       "              objective='multi:softprob', random_state=0, reg_alpha=0,\n",
       "              reg_lambda=1, scale_pos_weight=None, subsample=1,\n",
       "              tree_method=None, validate_parameters=False, verbosity=None)"
      ]
     },
     "execution_count": 53,
     "metadata": {},
     "output_type": "execute_result"
    }
   ],
   "source": [
    "#fit the model with the best parameter values obtained\n",
    "ev_set = [(X_train, y_train), (X_test, y_test)]\n",
    "#model.fit(X_train.drop(columns = ['umpire1', 'umpire2', 'toss_decision', 'result', 'venue', 'toss_winner', 'city','dl_applied', 'season']), y_train, eval_metric = \"merror\", eval_set = ev_set, verbose = True)\n",
    "clf = xgb.XGBClassifier(learning_rate = 0.4, max_depth = 10, min_child_weight = 1, n_estimators = 20, n_jobs = -1)\n",
    "clf.fit(X_train, y_train, eval_metric = 'merror', eval_set = ev_set, verbose = True)"
   ]
  },
  {
   "cell_type": "code",
   "execution_count": 54,
   "metadata": {},
   "outputs": [],
   "source": [
    "# make predictions for test data on tuned model\n",
    "y_pred = clf.predict(X_test)\n",
    "predictions = [round(value) for value in y_pred]"
   ]
  },
  {
   "cell_type": "code",
   "execution_count": 55,
   "metadata": {},
   "outputs": [
    {
     "name": "stdout",
     "output_type": "stream",
     "text": [
      "Train Accuracy = 100.00\n",
      "Test Accuracy = 96.04\n"
     ]
    },
    {
     "data": {
      "text/plain": [
       "<matplotlib.axes._subplots.AxesSubplot at 0x7f5cc043acc0>"
      ]
     },
     "execution_count": 55,
     "metadata": {},
     "output_type": "execute_result"
    },
    {
     "data": {
      "image/png": "[encoded data removed]",
      "text/plain": [
       "<Figure size 432x288 with 1 Axes>"
      ]
     },
     "metadata": {
      "needs_background": "light"
     },
     "output_type": "display_data"
    }
   ],
   "source": [
    "# evaluate predictions\n",
    "accuracy = accuracy_score(y_test, predictions)\n",
    "print(\"Train Accuracy = %.2f\" % (accuracy_score(y_train, clf.predict(X_train)) * 100))\n",
    "print(\"Test Accuracy = %.2f\" % (accuracy * 100.0))\n",
    "xgb.plot_importance(clf)"
   ]
  }
 ],
 "metadata": {
  "kernelspec": {
   "display_name": "Python 3",
   "language": "python",
   "name": "python3"
  },
  "language_info": {
   "codemirror_mode": {
    "name": "ipython",
    "version": 3
   },
   "file_extension": ".py",
   "mimetype": "text/x-python",
   "name": "python",
   "nbconvert_exporter": "python",
   "pygments_lexer": "ipython3",
   "version": "3.6.6"
  }
 },
 "nbformat": 4,
 "nbformat_minor": 4
}
